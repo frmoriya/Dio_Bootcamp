{
 "cells": [
  {
   "cell_type": "markdown",
   "id": "ef74c88e",
   "metadata": {},
   "source": [
    "# Bootcamp DIO - Geração Tech Unimed-BH - Ciência de Dados"
   ]
  },
  {
   "cell_type": "markdown",
   "id": "a0e8760e",
   "metadata": {
    "heading_collapsed": true
   },
   "source": [
    "## ANALISE DE DADOS COM PANDAS\n",
    "\n",
    "### Executar a analise dos dados de vendas de produtos eletronicos de uma de uma rede de lojas"
   ]
  },
  {
   "cell_type": "markdown",
   "id": "7d6f335b",
   "metadata": {
    "heading_collapsed": true
   },
   "source": [
    "## 1- Import das bibliotecas"
   ]
  },
  {
   "cell_type": "code",
   "execution_count": 1,
   "id": "e6a396b2",
   "metadata": {
    "ExecuteTime": {
     "end_time": "2022-10-11T21:54:47.367754Z",
     "start_time": "2022-10-11T21:54:43.687468Z"
    },
    "hidden": true
   },
   "outputs": [],
   "source": [
    "# Importa as bibliotecas\n",
    "import pandas as pd\n",
    "import matplotlib.pyplot as plt\n"
   ]
  },
  {
   "cell_type": "markdown",
   "id": "9e9bb902",
   "metadata": {
    "heading_collapsed": true
   },
   "source": [
    "## 2- Carga dos Dados"
   ]
  },
  {
   "cell_type": "code",
   "execution_count": 2,
   "id": "a3fa62d1",
   "metadata": {
    "ExecuteTime": {
     "end_time": "2022-10-11T21:54:48.341408Z",
     "start_time": "2022-10-11T21:54:47.370753Z"
    },
    "hidden": true
   },
   "outputs": [],
   "source": [
    "# Carga dos dados a partir do arquivo excell\n",
    "df = pd.read_excel(\"AdventureWorks.xlsx\")"
   ]
  },
  {
   "cell_type": "code",
   "execution_count": 3,
   "id": "82ec1b92",
   "metadata": {
    "ExecuteTime": {
     "end_time": "2022-10-11T21:54:50.193289Z",
     "start_time": "2022-10-11T21:54:50.147291Z"
    },
    "hidden": true
   },
   "outputs": [
    {
     "data": {
      "text/html": [
       "<div>\n",
       "<style scoped>\n",
       "    .dataframe tbody tr th:only-of-type {\n",
       "        vertical-align: middle;\n",
       "    }\n",
       "\n",
       "    .dataframe tbody tr th {\n",
       "        vertical-align: top;\n",
       "    }\n",
       "\n",
       "    .dataframe thead th {\n",
       "        text-align: right;\n",
       "    }\n",
       "</style>\n",
       "<table border=\"1\" class=\"dataframe\">\n",
       "  <thead>\n",
       "    <tr style=\"text-align: right;\">\n",
       "      <th></th>\n",
       "      <th>Data Venda</th>\n",
       "      <th>Data Envio</th>\n",
       "      <th>ID Loja</th>\n",
       "      <th>ID Produto</th>\n",
       "      <th>ID Cliente</th>\n",
       "      <th>No. Venda</th>\n",
       "      <th>Custo Unitário</th>\n",
       "      <th>Preço Unitário</th>\n",
       "      <th>Quantidade</th>\n",
       "      <th>Valor Desconto</th>\n",
       "      <th>Valor Venda</th>\n",
       "      <th>Produto</th>\n",
       "      <th>Fabricante</th>\n",
       "      <th>Marca</th>\n",
       "      <th>Classe</th>\n",
       "      <th>Cor</th>\n",
       "    </tr>\n",
       "  </thead>\n",
       "  <tbody>\n",
       "    <tr>\n",
       "      <th>0</th>\n",
       "      <td>2008-05-09</td>\n",
       "      <td>2008-05-29</td>\n",
       "      <td>199</td>\n",
       "      <td>384</td>\n",
       "      <td>18839</td>\n",
       "      <td>200805093CS607</td>\n",
       "      <td>348.58</td>\n",
       "      <td>758.0</td>\n",
       "      <td>6</td>\n",
       "      <td>0.0</td>\n",
       "      <td>4548.0</td>\n",
       "      <td>Adventure Works Laptop15.4W M1548 Red</td>\n",
       "      <td>Adventure Works</td>\n",
       "      <td>Adventure Works</td>\n",
       "      <td>Regular</td>\n",
       "      <td>Red</td>\n",
       "    </tr>\n",
       "    <tr>\n",
       "      <th>1</th>\n",
       "      <td>2008-05-12</td>\n",
       "      <td>2008-05-17</td>\n",
       "      <td>306</td>\n",
       "      <td>384</td>\n",
       "      <td>19051</td>\n",
       "      <td>200805123CS567</td>\n",
       "      <td>348.58</td>\n",
       "      <td>758.0</td>\n",
       "      <td>6</td>\n",
       "      <td>0.0</td>\n",
       "      <td>4548.0</td>\n",
       "      <td>Adventure Works Laptop15.4W M1548 Red</td>\n",
       "      <td>Adventure Works</td>\n",
       "      <td>Adventure Works</td>\n",
       "      <td>Regular</td>\n",
       "      <td>Red</td>\n",
       "    </tr>\n",
       "  </tbody>\n",
       "</table>\n",
       "</div>"
      ],
      "text/plain": [
       "  Data Venda Data Envio  ID Loja  ID Produto  ID Cliente       No. Venda  \\\n",
       "0 2008-05-09 2008-05-29      199         384       18839  200805093CS607   \n",
       "1 2008-05-12 2008-05-17      306         384       19051  200805123CS567   \n",
       "\n",
       "   Custo Unitário  Preço Unitário  Quantidade  Valor Desconto  Valor Venda  \\\n",
       "0          348.58           758.0           6             0.0       4548.0   \n",
       "1          348.58           758.0           6             0.0       4548.0   \n",
       "\n",
       "                                 Produto       Fabricante            Marca  \\\n",
       "0  Adventure Works Laptop15.4W M1548 Red  Adventure Works  Adventure Works   \n",
       "1  Adventure Works Laptop15.4W M1548 Red  Adventure Works  Adventure Works   \n",
       "\n",
       "    Classe  Cor  \n",
       "0  Regular  Red  \n",
       "1  Regular  Red  "
      ]
     },
     "execution_count": 3,
     "metadata": {},
     "output_type": "execute_result"
    }
   ],
   "source": [
    "df.head(2)"
   ]
  },
  {
   "cell_type": "markdown",
   "id": "b3826797",
   "metadata": {
    "heading_collapsed": true
   },
   "source": [
    "## 3- Dimensao do Dataframe"
   ]
  },
  {
   "cell_type": "code",
   "execution_count": 56,
   "id": "8a519a7f",
   "metadata": {
    "ExecuteTime": {
     "end_time": "2022-10-11T22:09:59.671847Z",
     "start_time": "2022-10-11T22:09:59.659846Z"
    },
    "hidden": true
   },
   "outputs": [
    {
     "name": "stdout",
     "output_type": "stream",
     "text": [
      "Numero de linhas: 904\n",
      "Numbero de colunas: 21\n"
     ]
    }
   ],
   "source": [
    "# Dimensao do dataframe\n",
    "print( 'Numero de linhas: {}'.format( df.shape[0] ) )\n",
    "print( 'Numbero de colunas: {}'.format( df.shape[1] ) )\n"
   ]
  },
  {
   "cell_type": "markdown",
   "id": "9a8f8f43",
   "metadata": {
    "heading_collapsed": true
   },
   "source": [
    "## 4- Tipo do dados"
   ]
  },
  {
   "cell_type": "code",
   "execution_count": 57,
   "id": "6f2d2cba",
   "metadata": {
    "ExecuteTime": {
     "end_time": "2022-10-11T22:10:28.260875Z",
     "start_time": "2022-10-11T22:10:28.248878Z"
    },
    "hidden": true
   },
   "outputs": [
    {
     "data": {
      "text/plain": [
       "data_venda        datetime64[ns]\n",
       "data_envio        datetime64[ns]\n",
       "id_loja                   object\n",
       "id_produto                 int64\n",
       "id_cliente                 int64\n",
       "numero_venda              object\n",
       "custo_unitario           float64\n",
       "preço_unitario           float64\n",
       "quantidade                 int64\n",
       "valor_desconto           float64\n",
       "valor_venda              float64\n",
       "produto                   object\n",
       "fabricante                object\n",
       "marca                     object\n",
       "classe                    object\n",
       "cor                       object\n",
       "ano_venda                  int64\n",
       "mes_venda                  int64\n",
       "dia_venda                  int64\n",
       "lucro                    float64\n",
       "tempo_envio                int64\n",
       "dtype: object"
      ]
     },
     "execution_count": 57,
     "metadata": {},
     "output_type": "execute_result"
    }
   ],
   "source": [
    "# Tipos dos dados\n",
    "df.dtypes"
   ]
  },
  {
   "cell_type": "code",
   "execution_count": 6,
   "id": "573eeb25",
   "metadata": {
    "ExecuteTime": {
     "end_time": "2022-10-11T21:55:01.925422Z",
     "start_time": "2022-10-11T21:55:01.909422Z"
    },
    "hidden": true
   },
   "outputs": [
    {
     "data": {
      "text/plain": [
       "Index(['Data Venda', 'Data Envio', 'ID Loja', 'ID Produto', 'ID Cliente',\n",
       "       'No. Venda', 'Custo Unitário', 'Preço Unitário', 'Quantidade',\n",
       "       'Valor Desconto', 'Valor Venda', 'Produto', 'Fabricante', 'Marca',\n",
       "       'Classe', 'Cor'],\n",
       "      dtype='object')"
      ]
     },
     "execution_count": 6,
     "metadata": {},
     "output_type": "execute_result"
    }
   ],
   "source": [
    "df.columns"
   ]
  },
  {
   "cell_type": "code",
   "execution_count": 7,
   "id": "53106493",
   "metadata": {
    "ExecuteTime": {
     "end_time": "2022-10-11T21:55:04.779209Z",
     "start_time": "2022-10-11T21:55:04.755211Z"
    },
    "hidden": true
   },
   "outputs": [
    {
     "data": {
      "text/plain": [
       "array(['Adventure Works', 'Fabrikam', 'Contoso'], dtype=object)"
      ]
     },
     "execution_count": 7,
     "metadata": {},
     "output_type": "execute_result"
    }
   ],
   "source": [
    "df['Marca'].unique()"
   ]
  },
  {
   "cell_type": "code",
   "execution_count": 59,
   "id": "29cdc247",
   "metadata": {
    "ExecuteTime": {
     "end_time": "2022-10-11T22:10:53.413452Z",
     "start_time": "2022-10-11T22:10:53.363456Z"
    },
    "hidden": true
   },
   "outputs": [
    {
     "data": {
      "text/html": [
       "<div>\n",
       "<style scoped>\n",
       "    .dataframe tbody tr th:only-of-type {\n",
       "        vertical-align: middle;\n",
       "    }\n",
       "\n",
       "    .dataframe tbody tr th {\n",
       "        vertical-align: top;\n",
       "    }\n",
       "\n",
       "    .dataframe thead th {\n",
       "        text-align: right;\n",
       "    }\n",
       "</style>\n",
       "<table border=\"1\" class=\"dataframe\">\n",
       "  <thead>\n",
       "    <tr style=\"text-align: right;\">\n",
       "      <th></th>\n",
       "      <th>data_venda</th>\n",
       "      <th>data_envio</th>\n",
       "      <th>id_loja</th>\n",
       "      <th>id_produto</th>\n",
       "      <th>id_cliente</th>\n",
       "      <th>numero_venda</th>\n",
       "      <th>custo_unitario</th>\n",
       "      <th>preço_unitario</th>\n",
       "      <th>quantidade</th>\n",
       "      <th>valor_desconto</th>\n",
       "      <th>...</th>\n",
       "      <th>produto</th>\n",
       "      <th>fabricante</th>\n",
       "      <th>marca</th>\n",
       "      <th>classe</th>\n",
       "      <th>cor</th>\n",
       "      <th>ano_venda</th>\n",
       "      <th>mes_venda</th>\n",
       "      <th>dia_venda</th>\n",
       "      <th>lucro</th>\n",
       "      <th>tempo_envio</th>\n",
       "    </tr>\n",
       "  </thead>\n",
       "  <tbody>\n",
       "    <tr>\n",
       "      <th>0</th>\n",
       "      <td>2008-05-09</td>\n",
       "      <td>2008-05-29</td>\n",
       "      <td>199</td>\n",
       "      <td>384</td>\n",
       "      <td>18839</td>\n",
       "      <td>200805093CS607</td>\n",
       "      <td>348.58</td>\n",
       "      <td>758.00</td>\n",
       "      <td>6</td>\n",
       "      <td>0.00</td>\n",
       "      <td>...</td>\n",
       "      <td>Adventure Works Laptop15.4W M1548 Red</td>\n",
       "      <td>Adventure Works</td>\n",
       "      <td>Adventure Works</td>\n",
       "      <td>Regular</td>\n",
       "      <td>Red</td>\n",
       "      <td>2008</td>\n",
       "      <td>5</td>\n",
       "      <td>9</td>\n",
       "      <td>4,199.42</td>\n",
       "      <td>20</td>\n",
       "    </tr>\n",
       "    <tr>\n",
       "      <th>1</th>\n",
       "      <td>2008-05-12</td>\n",
       "      <td>2008-05-17</td>\n",
       "      <td>306</td>\n",
       "      <td>384</td>\n",
       "      <td>19051</td>\n",
       "      <td>200805123CS567</td>\n",
       "      <td>348.58</td>\n",
       "      <td>758.00</td>\n",
       "      <td>6</td>\n",
       "      <td>0.00</td>\n",
       "      <td>...</td>\n",
       "      <td>Adventure Works Laptop15.4W M1548 Red</td>\n",
       "      <td>Adventure Works</td>\n",
       "      <td>Adventure Works</td>\n",
       "      <td>Regular</td>\n",
       "      <td>Red</td>\n",
       "      <td>2008</td>\n",
       "      <td>5</td>\n",
       "      <td>12</td>\n",
       "      <td>4,199.42</td>\n",
       "      <td>5</td>\n",
       "    </tr>\n",
       "    <tr>\n",
       "      <th>2</th>\n",
       "      <td>2008-05-14</td>\n",
       "      <td>2008-05-20</td>\n",
       "      <td>306</td>\n",
       "      <td>384</td>\n",
       "      <td>19052</td>\n",
       "      <td>200805143CS576</td>\n",
       "      <td>348.58</td>\n",
       "      <td>758.00</td>\n",
       "      <td>6</td>\n",
       "      <td>0.00</td>\n",
       "      <td>...</td>\n",
       "      <td>Adventure Works Laptop15.4W M1548 Red</td>\n",
       "      <td>Adventure Works</td>\n",
       "      <td>Adventure Works</td>\n",
       "      <td>Regular</td>\n",
       "      <td>Red</td>\n",
       "      <td>2008</td>\n",
       "      <td>5</td>\n",
       "      <td>14</td>\n",
       "      <td>4,199.42</td>\n",
       "      <td>6</td>\n",
       "    </tr>\n",
       "    <tr>\n",
       "      <th>3</th>\n",
       "      <td>2008-05-21</td>\n",
       "      <td>2008-05-27</td>\n",
       "      <td>306</td>\n",
       "      <td>384</td>\n",
       "      <td>19052</td>\n",
       "      <td>200805213CS576</td>\n",
       "      <td>348.58</td>\n",
       "      <td>758.00</td>\n",
       "      <td>6</td>\n",
       "      <td>0.00</td>\n",
       "      <td>...</td>\n",
       "      <td>Adventure Works Laptop15.4W M1548 Red</td>\n",
       "      <td>Adventure Works</td>\n",
       "      <td>Adventure Works</td>\n",
       "      <td>Regular</td>\n",
       "      <td>Red</td>\n",
       "      <td>2008</td>\n",
       "      <td>5</td>\n",
       "      <td>21</td>\n",
       "      <td>4,199.42</td>\n",
       "      <td>6</td>\n",
       "    </tr>\n",
       "    <tr>\n",
       "      <th>4</th>\n",
       "      <td>2008-06-20</td>\n",
       "      <td>2008-06-27</td>\n",
       "      <td>306</td>\n",
       "      <td>384</td>\n",
       "      <td>19053</td>\n",
       "      <td>200806203CS586</td>\n",
       "      <td>348.58</td>\n",
       "      <td>758.00</td>\n",
       "      <td>6</td>\n",
       "      <td>0.00</td>\n",
       "      <td>...</td>\n",
       "      <td>Adventure Works Laptop15.4W M1548 Red</td>\n",
       "      <td>Adventure Works</td>\n",
       "      <td>Adventure Works</td>\n",
       "      <td>Regular</td>\n",
       "      <td>Red</td>\n",
       "      <td>2008</td>\n",
       "      <td>6</td>\n",
       "      <td>20</td>\n",
       "      <td>4,199.42</td>\n",
       "      <td>7</td>\n",
       "    </tr>\n",
       "    <tr>\n",
       "      <th>5</th>\n",
       "      <td>2008-07-12</td>\n",
       "      <td>2008-07-20</td>\n",
       "      <td>306</td>\n",
       "      <td>384</td>\n",
       "      <td>19054</td>\n",
       "      <td>200807123CS588</td>\n",
       "      <td>348.58</td>\n",
       "      <td>758.00</td>\n",
       "      <td>6</td>\n",
       "      <td>0.00</td>\n",
       "      <td>...</td>\n",
       "      <td>Adventure Works Laptop15.4W M1548 Red</td>\n",
       "      <td>Adventure Works</td>\n",
       "      <td>Adventure Works</td>\n",
       "      <td>Regular</td>\n",
       "      <td>Red</td>\n",
       "      <td>2008</td>\n",
       "      <td>7</td>\n",
       "      <td>12</td>\n",
       "      <td>4,199.42</td>\n",
       "      <td>8</td>\n",
       "    </tr>\n",
       "    <tr>\n",
       "      <th>6</th>\n",
       "      <td>2008-08-14</td>\n",
       "      <td>2008-08-21</td>\n",
       "      <td>307</td>\n",
       "      <td>384</td>\n",
       "      <td>19103</td>\n",
       "      <td>200808143CS628</td>\n",
       "      <td>348.58</td>\n",
       "      <td>758.00</td>\n",
       "      <td>6</td>\n",
       "      <td>0.00</td>\n",
       "      <td>...</td>\n",
       "      <td>Adventure Works Laptop15.4W M1548 Red</td>\n",
       "      <td>Adventure Works</td>\n",
       "      <td>Adventure Works</td>\n",
       "      <td>Regular</td>\n",
       "      <td>Red</td>\n",
       "      <td>2008</td>\n",
       "      <td>8</td>\n",
       "      <td>14</td>\n",
       "      <td>4,199.42</td>\n",
       "      <td>7</td>\n",
       "    </tr>\n",
       "    <tr>\n",
       "      <th>7</th>\n",
       "      <td>2008-09-29</td>\n",
       "      <td>2008-10-09</td>\n",
       "      <td>307</td>\n",
       "      <td>384</td>\n",
       "      <td>19106</td>\n",
       "      <td>200809293CS637</td>\n",
       "      <td>348.58</td>\n",
       "      <td>758.00</td>\n",
       "      <td>6</td>\n",
       "      <td>0.00</td>\n",
       "      <td>...</td>\n",
       "      <td>Adventure Works Laptop15.4W M1548 Red</td>\n",
       "      <td>Adventure Works</td>\n",
       "      <td>Adventure Works</td>\n",
       "      <td>Regular</td>\n",
       "      <td>Red</td>\n",
       "      <td>2008</td>\n",
       "      <td>9</td>\n",
       "      <td>29</td>\n",
       "      <td>4,199.42</td>\n",
       "      <td>10</td>\n",
       "    </tr>\n",
       "    <tr>\n",
       "      <th>8</th>\n",
       "      <td>2008-10-09</td>\n",
       "      <td>2008-10-19</td>\n",
       "      <td>307</td>\n",
       "      <td>384</td>\n",
       "      <td>19106</td>\n",
       "      <td>200810093CS637</td>\n",
       "      <td>348.58</td>\n",
       "      <td>758.00</td>\n",
       "      <td>6</td>\n",
       "      <td>0.00</td>\n",
       "      <td>...</td>\n",
       "      <td>Adventure Works Laptop15.4W M1548 Red</td>\n",
       "      <td>Adventure Works</td>\n",
       "      <td>Adventure Works</td>\n",
       "      <td>Regular</td>\n",
       "      <td>Red</td>\n",
       "      <td>2008</td>\n",
       "      <td>10</td>\n",
       "      <td>9</td>\n",
       "      <td>4,199.42</td>\n",
       "      <td>10</td>\n",
       "    </tr>\n",
       "    <tr>\n",
       "      <th>9</th>\n",
       "      <td>2008-10-16</td>\n",
       "      <td>2008-10-27</td>\n",
       "      <td>307</td>\n",
       "      <td>384</td>\n",
       "      <td>19107</td>\n",
       "      <td>200810163CS646</td>\n",
       "      <td>348.58</td>\n",
       "      <td>758.00</td>\n",
       "      <td>6</td>\n",
       "      <td>0.00</td>\n",
       "      <td>...</td>\n",
       "      <td>Adventure Works Laptop15.4W M1548 Red</td>\n",
       "      <td>Adventure Works</td>\n",
       "      <td>Adventure Works</td>\n",
       "      <td>Regular</td>\n",
       "      <td>Red</td>\n",
       "      <td>2008</td>\n",
       "      <td>10</td>\n",
       "      <td>16</td>\n",
       "      <td>4,199.42</td>\n",
       "      <td>11</td>\n",
       "    </tr>\n",
       "  </tbody>\n",
       "</table>\n",
       "<p>10 rows × 21 columns</p>\n",
       "</div>"
      ],
      "text/plain": [
       "  data_venda data_envio id_loja  id_produto  id_cliente    numero_venda  \\\n",
       "0 2008-05-09 2008-05-29     199         384       18839  200805093CS607   \n",
       "1 2008-05-12 2008-05-17     306         384       19051  200805123CS567   \n",
       "2 2008-05-14 2008-05-20     306         384       19052  200805143CS576   \n",
       "3 2008-05-21 2008-05-27     306         384       19052  200805213CS576   \n",
       "4 2008-06-20 2008-06-27     306         384       19053  200806203CS586   \n",
       "5 2008-07-12 2008-07-20     306         384       19054  200807123CS588   \n",
       "6 2008-08-14 2008-08-21     307         384       19103  200808143CS628   \n",
       "7 2008-09-29 2008-10-09     307         384       19106  200809293CS637   \n",
       "8 2008-10-09 2008-10-19     307         384       19106  200810093CS637   \n",
       "9 2008-10-16 2008-10-27     307         384       19107  200810163CS646   \n",
       "\n",
       "        custo_unitario       preço_unitario  quantidade       valor_desconto  \\\n",
       "0               348.58               758.00           6                 0.00   \n",
       "1               348.58               758.00           6                 0.00   \n",
       "2               348.58               758.00           6                 0.00   \n",
       "3               348.58               758.00           6                 0.00   \n",
       "4               348.58               758.00           6                 0.00   \n",
       "5               348.58               758.00           6                 0.00   \n",
       "6               348.58               758.00           6                 0.00   \n",
       "7               348.58               758.00           6                 0.00   \n",
       "8               348.58               758.00           6                 0.00   \n",
       "9               348.58               758.00           6                 0.00   \n",
       "\n",
       "   ...                                produto       fabricante  \\\n",
       "0  ...  Adventure Works Laptop15.4W M1548 Red  Adventure Works   \n",
       "1  ...  Adventure Works Laptop15.4W M1548 Red  Adventure Works   \n",
       "2  ...  Adventure Works Laptop15.4W M1548 Red  Adventure Works   \n",
       "3  ...  Adventure Works Laptop15.4W M1548 Red  Adventure Works   \n",
       "4  ...  Adventure Works Laptop15.4W M1548 Red  Adventure Works   \n",
       "5  ...  Adventure Works Laptop15.4W M1548 Red  Adventure Works   \n",
       "6  ...  Adventure Works Laptop15.4W M1548 Red  Adventure Works   \n",
       "7  ...  Adventure Works Laptop15.4W M1548 Red  Adventure Works   \n",
       "8  ...  Adventure Works Laptop15.4W M1548 Red  Adventure Works   \n",
       "9  ...  Adventure Works Laptop15.4W M1548 Red  Adventure Works   \n",
       "\n",
       "             marca   classe  cor ano_venda  mes_venda  dia_venda  \\\n",
       "0  Adventure Works  Regular  Red      2008          5          9   \n",
       "1  Adventure Works  Regular  Red      2008          5         12   \n",
       "2  Adventure Works  Regular  Red      2008          5         14   \n",
       "3  Adventure Works  Regular  Red      2008          5         21   \n",
       "4  Adventure Works  Regular  Red      2008          6         20   \n",
       "5  Adventure Works  Regular  Red      2008          7         12   \n",
       "6  Adventure Works  Regular  Red      2008          8         14   \n",
       "7  Adventure Works  Regular  Red      2008          9         29   \n",
       "8  Adventure Works  Regular  Red      2008         10          9   \n",
       "9  Adventure Works  Regular  Red      2008         10         16   \n",
       "\n",
       "                 lucro  tempo_envio  \n",
       "0             4,199.42           20  \n",
       "1             4,199.42            5  \n",
       "2             4,199.42            6  \n",
       "3             4,199.42            6  \n",
       "4             4,199.42            7  \n",
       "5             4,199.42            8  \n",
       "6             4,199.42            7  \n",
       "7             4,199.42           10  \n",
       "8             4,199.42           10  \n",
       "9             4,199.42           11  \n",
       "\n",
       "[10 rows x 21 columns]"
      ]
     },
     "execution_count": 59,
     "metadata": {},
     "output_type": "execute_result"
    }
   ],
   "source": [
    "# Lista os 10 primeiros itens do dataframe\n",
    "df.head(10)"
   ]
  },
  {
   "cell_type": "code",
   "execution_count": 60,
   "id": "8769a21a",
   "metadata": {
    "ExecuteTime": {
     "end_time": "2022-10-11T22:11:20.035539Z",
     "start_time": "2022-10-11T22:11:19.987539Z"
    },
    "code_folding": [],
    "hidden": true
   },
   "outputs": [
    {
     "data": {
      "text/html": [
       "<div>\n",
       "<style scoped>\n",
       "    .dataframe tbody tr th:only-of-type {\n",
       "        vertical-align: middle;\n",
       "    }\n",
       "\n",
       "    .dataframe tbody tr th {\n",
       "        vertical-align: top;\n",
       "    }\n",
       "\n",
       "    .dataframe thead th {\n",
       "        text-align: right;\n",
       "    }\n",
       "</style>\n",
       "<table border=\"1\" class=\"dataframe\">\n",
       "  <thead>\n",
       "    <tr style=\"text-align: right;\">\n",
       "      <th></th>\n",
       "      <th>data_venda</th>\n",
       "      <th>data_envio</th>\n",
       "      <th>id_loja</th>\n",
       "      <th>id_produto</th>\n",
       "      <th>id_cliente</th>\n",
       "      <th>numero_venda</th>\n",
       "      <th>custo_unitario</th>\n",
       "      <th>preço_unitario</th>\n",
       "      <th>quantidade</th>\n",
       "      <th>valor_desconto</th>\n",
       "      <th>...</th>\n",
       "      <th>produto</th>\n",
       "      <th>fabricante</th>\n",
       "      <th>marca</th>\n",
       "      <th>classe</th>\n",
       "      <th>cor</th>\n",
       "      <th>ano_venda</th>\n",
       "      <th>mes_venda</th>\n",
       "      <th>dia_venda</th>\n",
       "      <th>lucro</th>\n",
       "      <th>tempo_envio</th>\n",
       "    </tr>\n",
       "  </thead>\n",
       "  <tbody>\n",
       "    <tr>\n",
       "      <th>894</th>\n",
       "      <td>2008-12-17</td>\n",
       "      <td>2008-12-22</td>\n",
       "      <td>307</td>\n",
       "      <td>1226</td>\n",
       "      <td>19111</td>\n",
       "      <td>200812174CS669</td>\n",
       "      <td>330.99</td>\n",
       "      <td>999.00</td>\n",
       "      <td>6</td>\n",
       "      <td>899.10</td>\n",
       "      <td>...</td>\n",
       "      <td>Fabrikam Trendsetter 1/3'' 8.5mm X200 Black</td>\n",
       "      <td>Fabrikam, Inc.</td>\n",
       "      <td>Fabrikam</td>\n",
       "      <td>Regular</td>\n",
       "      <td>Black</td>\n",
       "      <td>2008</td>\n",
       "      <td>12</td>\n",
       "      <td>17</td>\n",
       "      <td>4,763.91</td>\n",
       "      <td>5</td>\n",
       "    </tr>\n",
       "    <tr>\n",
       "      <th>895</th>\n",
       "      <td>2009-01-11</td>\n",
       "      <td>2009-01-18</td>\n",
       "      <td>307</td>\n",
       "      <td>1155</td>\n",
       "      <td>19113</td>\n",
       "      <td>200901114CS680</td>\n",
       "      <td>324.69</td>\n",
       "      <td>980.00</td>\n",
       "      <td>6</td>\n",
       "      <td>882.00</td>\n",
       "      <td>...</td>\n",
       "      <td>Fabrikam Trendsetter 2/3'' 17mm X100 Black</td>\n",
       "      <td>Fabrikam, Inc.</td>\n",
       "      <td>Fabrikam</td>\n",
       "      <td>Regular</td>\n",
       "      <td>Black</td>\n",
       "      <td>2009</td>\n",
       "      <td>1</td>\n",
       "      <td>11</td>\n",
       "      <td>4,673.31</td>\n",
       "      <td>7</td>\n",
       "    </tr>\n",
       "    <tr>\n",
       "      <th>896</th>\n",
       "      <td>2009-03-04</td>\n",
       "      <td>2009-03-15</td>\n",
       "      <td>307</td>\n",
       "      <td>1155</td>\n",
       "      <td>19117</td>\n",
       "      <td>200903044CS706</td>\n",
       "      <td>324.69</td>\n",
       "      <td>980.00</td>\n",
       "      <td>6</td>\n",
       "      <td>1,176.00</td>\n",
       "      <td>...</td>\n",
       "      <td>Fabrikam Trendsetter 2/3'' 17mm X100 Black</td>\n",
       "      <td>Fabrikam, Inc.</td>\n",
       "      <td>Fabrikam</td>\n",
       "      <td>Regular</td>\n",
       "      <td>Black</td>\n",
       "      <td>2009</td>\n",
       "      <td>3</td>\n",
       "      <td>4</td>\n",
       "      <td>4,379.31</td>\n",
       "      <td>11</td>\n",
       "    </tr>\n",
       "    <tr>\n",
       "      <th>897</th>\n",
       "      <td>2009-06-12</td>\n",
       "      <td>2009-06-22</td>\n",
       "      <td>307</td>\n",
       "      <td>1226</td>\n",
       "      <td>19126</td>\n",
       "      <td>200906124CS716</td>\n",
       "      <td>330.99</td>\n",
       "      <td>999.00</td>\n",
       "      <td>6</td>\n",
       "      <td>599.40</td>\n",
       "      <td>...</td>\n",
       "      <td>Fabrikam Trendsetter 1/3'' 8.5mm X200 Black</td>\n",
       "      <td>Fabrikam, Inc.</td>\n",
       "      <td>Fabrikam</td>\n",
       "      <td>Regular</td>\n",
       "      <td>Black</td>\n",
       "      <td>2009</td>\n",
       "      <td>6</td>\n",
       "      <td>12</td>\n",
       "      <td>5,063.61</td>\n",
       "      <td>10</td>\n",
       "    </tr>\n",
       "    <tr>\n",
       "      <th>898</th>\n",
       "      <td>2009-06-25</td>\n",
       "      <td>2009-07-06</td>\n",
       "      <td>307</td>\n",
       "      <td>1155</td>\n",
       "      <td>19127</td>\n",
       "      <td>200906254CS717</td>\n",
       "      <td>324.69</td>\n",
       "      <td>980.00</td>\n",
       "      <td>6</td>\n",
       "      <td>588.00</td>\n",
       "      <td>...</td>\n",
       "      <td>Fabrikam Trendsetter 2/3'' 17mm X100 Black</td>\n",
       "      <td>Fabrikam, Inc.</td>\n",
       "      <td>Fabrikam</td>\n",
       "      <td>Regular</td>\n",
       "      <td>Black</td>\n",
       "      <td>2009</td>\n",
       "      <td>6</td>\n",
       "      <td>25</td>\n",
       "      <td>4,967.31</td>\n",
       "      <td>11</td>\n",
       "    </tr>\n",
       "    <tr>\n",
       "      <th>899</th>\n",
       "      <td>2008-03-22</td>\n",
       "      <td>2008-04-04</td>\n",
       "      <td>306</td>\n",
       "      <td>1226</td>\n",
       "      <td>19049</td>\n",
       "      <td>200803224CS555</td>\n",
       "      <td>330.99</td>\n",
       "      <td>999.00</td>\n",
       "      <td>6</td>\n",
       "      <td>419.58</td>\n",
       "      <td>...</td>\n",
       "      <td>Fabrikam Trendsetter 1/3'' 8.5mm X200 Black</td>\n",
       "      <td>Fabrikam, Inc.</td>\n",
       "      <td>Fabrikam</td>\n",
       "      <td>Regular</td>\n",
       "      <td>Black</td>\n",
       "      <td>2008</td>\n",
       "      <td>3</td>\n",
       "      <td>22</td>\n",
       "      <td>5,243.43</td>\n",
       "      <td>13</td>\n",
       "    </tr>\n",
       "    <tr>\n",
       "      <th>900</th>\n",
       "      <td>2008-10-04</td>\n",
       "      <td>2008-10-15</td>\n",
       "      <td>306</td>\n",
       "      <td>1155</td>\n",
       "      <td>19057</td>\n",
       "      <td>200810044CS636</td>\n",
       "      <td>324.69</td>\n",
       "      <td>980.00</td>\n",
       "      <td>6</td>\n",
       "      <td>1,176.00</td>\n",
       "      <td>...</td>\n",
       "      <td>Fabrikam Trendsetter 2/3'' 17mm X100 Black</td>\n",
       "      <td>Fabrikam, Inc.</td>\n",
       "      <td>Fabrikam</td>\n",
       "      <td>Regular</td>\n",
       "      <td>Black</td>\n",
       "      <td>2008</td>\n",
       "      <td>10</td>\n",
       "      <td>4</td>\n",
       "      <td>4,379.31</td>\n",
       "      <td>11</td>\n",
       "    </tr>\n",
       "    <tr>\n",
       "      <th>901</th>\n",
       "      <td>2008-12-11</td>\n",
       "      <td>2008-12-15</td>\n",
       "      <td>306</td>\n",
       "      <td>1155</td>\n",
       "      <td>19060</td>\n",
       "      <td>200812114CS676</td>\n",
       "      <td>324.69</td>\n",
       "      <td>980.00</td>\n",
       "      <td>6</td>\n",
       "      <td>1,176.00</td>\n",
       "      <td>...</td>\n",
       "      <td>Fabrikam Trendsetter 2/3'' 17mm X100 Black</td>\n",
       "      <td>Fabrikam, Inc.</td>\n",
       "      <td>Fabrikam</td>\n",
       "      <td>Regular</td>\n",
       "      <td>Black</td>\n",
       "      <td>2008</td>\n",
       "      <td>12</td>\n",
       "      <td>11</td>\n",
       "      <td>4,379.31</td>\n",
       "      <td>4</td>\n",
       "    </tr>\n",
       "    <tr>\n",
       "      <th>902</th>\n",
       "      <td>2008-12-17</td>\n",
       "      <td>2008-12-21</td>\n",
       "      <td>306</td>\n",
       "      <td>1226</td>\n",
       "      <td>19060</td>\n",
       "      <td>200812174CS676</td>\n",
       "      <td>330.99</td>\n",
       "      <td>999.00</td>\n",
       "      <td>6</td>\n",
       "      <td>1,198.80</td>\n",
       "      <td>...</td>\n",
       "      <td>Fabrikam Trendsetter 1/3'' 8.5mm X200 Black</td>\n",
       "      <td>Fabrikam, Inc.</td>\n",
       "      <td>Fabrikam</td>\n",
       "      <td>Regular</td>\n",
       "      <td>Black</td>\n",
       "      <td>2008</td>\n",
       "      <td>12</td>\n",
       "      <td>17</td>\n",
       "      <td>4,464.21</td>\n",
       "      <td>4</td>\n",
       "    </tr>\n",
       "    <tr>\n",
       "      <th>903</th>\n",
       "      <td>2008-12-21</td>\n",
       "      <td>2008-12-25</td>\n",
       "      <td>306</td>\n",
       "      <td>1155</td>\n",
       "      <td>19060</td>\n",
       "      <td>200812214CS676</td>\n",
       "      <td>324.69</td>\n",
       "      <td>980.00</td>\n",
       "      <td>6</td>\n",
       "      <td>1,176.00</td>\n",
       "      <td>...</td>\n",
       "      <td>Fabrikam Trendsetter 2/3'' 17mm X100 Black</td>\n",
       "      <td>Fabrikam, Inc.</td>\n",
       "      <td>Fabrikam</td>\n",
       "      <td>Regular</td>\n",
       "      <td>Black</td>\n",
       "      <td>2008</td>\n",
       "      <td>12</td>\n",
       "      <td>21</td>\n",
       "      <td>4,379.31</td>\n",
       "      <td>4</td>\n",
       "    </tr>\n",
       "  </tbody>\n",
       "</table>\n",
       "<p>10 rows × 21 columns</p>\n",
       "</div>"
      ],
      "text/plain": [
       "    data_venda data_envio id_loja  id_produto  id_cliente    numero_venda  \\\n",
       "894 2008-12-17 2008-12-22     307        1226       19111  200812174CS669   \n",
       "895 2009-01-11 2009-01-18     307        1155       19113  200901114CS680   \n",
       "896 2009-03-04 2009-03-15     307        1155       19117  200903044CS706   \n",
       "897 2009-06-12 2009-06-22     307        1226       19126  200906124CS716   \n",
       "898 2009-06-25 2009-07-06     307        1155       19127  200906254CS717   \n",
       "899 2008-03-22 2008-04-04     306        1226       19049  200803224CS555   \n",
       "900 2008-10-04 2008-10-15     306        1155       19057  200810044CS636   \n",
       "901 2008-12-11 2008-12-15     306        1155       19060  200812114CS676   \n",
       "902 2008-12-17 2008-12-21     306        1226       19060  200812174CS676   \n",
       "903 2008-12-21 2008-12-25     306        1155       19060  200812214CS676   \n",
       "\n",
       "          custo_unitario       preço_unitario  quantidade  \\\n",
       "894               330.99               999.00           6   \n",
       "895               324.69               980.00           6   \n",
       "896               324.69               980.00           6   \n",
       "897               330.99               999.00           6   \n",
       "898               324.69               980.00           6   \n",
       "899               330.99               999.00           6   \n",
       "900               324.69               980.00           6   \n",
       "901               324.69               980.00           6   \n",
       "902               330.99               999.00           6   \n",
       "903               324.69               980.00           6   \n",
       "\n",
       "          valor_desconto  ...                                      produto  \\\n",
       "894               899.10  ...  Fabrikam Trendsetter 1/3'' 8.5mm X200 Black   \n",
       "895               882.00  ...   Fabrikam Trendsetter 2/3'' 17mm X100 Black   \n",
       "896             1,176.00  ...   Fabrikam Trendsetter 2/3'' 17mm X100 Black   \n",
       "897               599.40  ...  Fabrikam Trendsetter 1/3'' 8.5mm X200 Black   \n",
       "898               588.00  ...   Fabrikam Trendsetter 2/3'' 17mm X100 Black   \n",
       "899               419.58  ...  Fabrikam Trendsetter 1/3'' 8.5mm X200 Black   \n",
       "900             1,176.00  ...   Fabrikam Trendsetter 2/3'' 17mm X100 Black   \n",
       "901             1,176.00  ...   Fabrikam Trendsetter 2/3'' 17mm X100 Black   \n",
       "902             1,198.80  ...  Fabrikam Trendsetter 1/3'' 8.5mm X200 Black   \n",
       "903             1,176.00  ...   Fabrikam Trendsetter 2/3'' 17mm X100 Black   \n",
       "\n",
       "         fabricante     marca   classe    cor ano_venda  mes_venda  dia_venda  \\\n",
       "894  Fabrikam, Inc.  Fabrikam  Regular  Black      2008         12         17   \n",
       "895  Fabrikam, Inc.  Fabrikam  Regular  Black      2009          1         11   \n",
       "896  Fabrikam, Inc.  Fabrikam  Regular  Black      2009          3          4   \n",
       "897  Fabrikam, Inc.  Fabrikam  Regular  Black      2009          6         12   \n",
       "898  Fabrikam, Inc.  Fabrikam  Regular  Black      2009          6         25   \n",
       "899  Fabrikam, Inc.  Fabrikam  Regular  Black      2008          3         22   \n",
       "900  Fabrikam, Inc.  Fabrikam  Regular  Black      2008         10          4   \n",
       "901  Fabrikam, Inc.  Fabrikam  Regular  Black      2008         12         11   \n",
       "902  Fabrikam, Inc.  Fabrikam  Regular  Black      2008         12         17   \n",
       "903  Fabrikam, Inc.  Fabrikam  Regular  Black      2008         12         21   \n",
       "\n",
       "                   lucro  tempo_envio  \n",
       "894             4,763.91            5  \n",
       "895             4,673.31            7  \n",
       "896             4,379.31           11  \n",
       "897             5,063.61           10  \n",
       "898             4,967.31           11  \n",
       "899             5,243.43           13  \n",
       "900             4,379.31           11  \n",
       "901             4,379.31            4  \n",
       "902             4,464.21            4  \n",
       "903             4,379.31            4  \n",
       "\n",
       "[10 rows x 21 columns]"
      ]
     },
     "execution_count": 60,
     "metadata": {},
     "output_type": "execute_result"
    }
   ],
   "source": [
    "# Lista os 10 ultimos itens do dataframe\n",
    "df.tail(10)"
   ]
  },
  {
   "cell_type": "code",
   "execution_count": 9,
   "id": "4a8254ea",
   "metadata": {
    "ExecuteTime": {
     "end_time": "2022-10-11T21:55:13.057082Z",
     "start_time": "2022-10-11T21:55:13.042088Z"
    },
    "hidden": true
   },
   "outputs": [
    {
     "data": {
      "text/plain": [
       "Data Venda        0\n",
       "Data Envio        0\n",
       "ID Loja           0\n",
       "ID Produto        0\n",
       "ID Cliente        0\n",
       "No. Venda         0\n",
       "Custo Unitário    0\n",
       "Preço Unitário    0\n",
       "Quantidade        0\n",
       "Valor Desconto    0\n",
       "Valor Venda       0\n",
       "Produto           0\n",
       "Fabricante        0\n",
       "Marca             0\n",
       "Classe            0\n",
       "Cor               0\n",
       "dtype: int64"
      ]
     },
     "execution_count": 9,
     "metadata": {},
     "output_type": "execute_result"
    }
   ],
   "source": [
    "# Verifica se existe valores nulos\n",
    "df.isnull().sum()"
   ]
  },
  {
   "cell_type": "markdown",
   "id": "1200561e",
   "metadata": {},
   "source": [
    "## 5- Ajuste do dataframe"
   ]
  },
  {
   "cell_type": "code",
   "execution_count": 10,
   "id": "c7730941",
   "metadata": {
    "ExecuteTime": {
     "end_time": "2022-10-11T21:55:15.964447Z",
     "start_time": "2022-10-11T21:55:15.952454Z"
    }
   },
   "outputs": [],
   "source": [
    "# df1 é uma copia do df\n",
    "df1=df"
   ]
  },
  {
   "cell_type": "code",
   "execution_count": 61,
   "id": "82eb3a02",
   "metadata": {
    "ExecuteTime": {
     "end_time": "2022-10-11T22:12:13.436818Z",
     "start_time": "2022-10-11T22:12:13.418816Z"
    }
   },
   "outputs": [
    {
     "data": {
      "text/plain": [
       "data_venda        datetime64[ns]\n",
       "data_envio        datetime64[ns]\n",
       "id_loja                   object\n",
       "id_produto                 int64\n",
       "id_cliente                 int64\n",
       "numero_venda              object\n",
       "custo_unitario           float64\n",
       "preço_unitario           float64\n",
       "quantidade                 int64\n",
       "valor_desconto           float64\n",
       "valor_venda              float64\n",
       "produto                   object\n",
       "fabricante                object\n",
       "marca                     object\n",
       "classe                    object\n",
       "cor                       object\n",
       "ano_venda                  int64\n",
       "mes_venda                  int64\n",
       "dia_venda                  int64\n",
       "lucro                    float64\n",
       "tempo_envio                int64\n",
       "dtype: object"
      ]
     },
     "execution_count": 61,
     "metadata": {},
     "output_type": "execute_result"
    }
   ],
   "source": [
    "# Tipos dos dados\n",
    "df1.dtypes"
   ]
  },
  {
   "cell_type": "code",
   "execution_count": 62,
   "id": "521b43b9",
   "metadata": {
    "ExecuteTime": {
     "end_time": "2022-10-11T22:12:49.292931Z",
     "start_time": "2022-10-11T22:12:49.271927Z"
    }
   },
   "outputs": [
    {
     "data": {
      "text/plain": [
       "Index(['data_venda', 'data_envio', 'id_loja', 'id_produto', 'id_cliente',\n",
       "       'numero_venda', 'custo_unitario', 'preço_unitario', 'quantidade',\n",
       "       'valor_desconto', 'valor_venda', 'produto', 'fabricante', 'marca',\n",
       "       'classe', 'cor', 'ano_venda', 'mes_venda', 'dia_venda', 'lucro',\n",
       "       'tempo_envio'],\n",
       "      dtype='object')"
      ]
     },
     "execution_count": 62,
     "metadata": {},
     "output_type": "execute_result"
    }
   ],
   "source": [
    "# Transformacao das labels das colunas para formato snack_case\n",
    "df1.columns"
   ]
  },
  {
   "cell_type": "code",
   "execution_count": 12,
   "id": "562d0d64",
   "metadata": {
    "ExecuteTime": {
     "end_time": "2022-10-11T21:55:22.120085Z",
     "start_time": "2022-10-11T21:55:22.083085Z"
    }
   },
   "outputs": [
    {
     "data": {
      "text/html": [
       "<div>\n",
       "<style scoped>\n",
       "    .dataframe tbody tr th:only-of-type {\n",
       "        vertical-align: middle;\n",
       "    }\n",
       "\n",
       "    .dataframe tbody tr th {\n",
       "        vertical-align: top;\n",
       "    }\n",
       "\n",
       "    .dataframe thead th {\n",
       "        text-align: right;\n",
       "    }\n",
       "</style>\n",
       "<table border=\"1\" class=\"dataframe\">\n",
       "  <thead>\n",
       "    <tr style=\"text-align: right;\">\n",
       "      <th></th>\n",
       "      <th>data_venda</th>\n",
       "      <th>data_envio</th>\n",
       "      <th>id_loja</th>\n",
       "      <th>id_produto</th>\n",
       "      <th>id_cliente</th>\n",
       "      <th>numero_venda</th>\n",
       "      <th>custo_unitario</th>\n",
       "      <th>preço_unitario</th>\n",
       "      <th>quantidade</th>\n",
       "      <th>valor_desconto</th>\n",
       "      <th>valor_venda</th>\n",
       "      <th>produto</th>\n",
       "      <th>fabricante</th>\n",
       "      <th>marca</th>\n",
       "      <th>classe</th>\n",
       "      <th>cor</th>\n",
       "    </tr>\n",
       "  </thead>\n",
       "  <tbody>\n",
       "    <tr>\n",
       "      <th>652</th>\n",
       "      <td>2009-12-28</td>\n",
       "      <td>2010-01-09</td>\n",
       "      <td>306</td>\n",
       "      <td>1178</td>\n",
       "      <td>19078</td>\n",
       "      <td>200912284CS780</td>\n",
       "      <td>330.66</td>\n",
       "      <td>998.0</td>\n",
       "      <td>5</td>\n",
       "      <td>998.0</td>\n",
       "      <td>3992.0</td>\n",
       "      <td>Fabrikam Trendsetter 1/3'' 8.5mm X200 White</td>\n",
       "      <td>Fabrikam, Inc.</td>\n",
       "      <td>Fabrikam</td>\n",
       "      <td>Regular</td>\n",
       "      <td>White</td>\n",
       "    </tr>\n",
       "  </tbody>\n",
       "</table>\n",
       "</div>"
      ],
      "text/plain": [
       "    data_venda data_envio  id_loja  id_produto  id_cliente    numero_venda  \\\n",
       "652 2009-12-28 2010-01-09      306        1178       19078  200912284CS780   \n",
       "\n",
       "     custo_unitario  preço_unitario  quantidade  valor_desconto  valor_venda  \\\n",
       "652          330.66           998.0           5           998.0       3992.0   \n",
       "\n",
       "                                         produto      fabricante     marca  \\\n",
       "652  Fabrikam Trendsetter 1/3'' 8.5mm X200 White  Fabrikam, Inc.  Fabrikam   \n",
       "\n",
       "      classe    cor  \n",
       "652  Regular  White  "
      ]
     },
     "execution_count": 12,
     "metadata": {},
     "output_type": "execute_result"
    }
   ],
   "source": [
    "coluna_snack_case = ['data_venda', 'data_envio', 'id_loja', 'id_produto', 'id_cliente',\n",
    "       'numero_venda', 'custo_unitario', 'preço_unitario', 'quantidade',\n",
    "       'valor_desconto', 'valor_venda', 'produto', 'fabricante', 'marca',\n",
    "       'classe', 'cor']\n",
    "df1.columns = coluna_snack_case\n",
    "df1.sample(1)"
   ]
  },
  {
   "cell_type": "code",
   "execution_count": 13,
   "id": "49780b08",
   "metadata": {
    "ExecuteTime": {
     "end_time": "2022-10-11T21:55:27.412043Z",
     "start_time": "2022-10-11T21:55:27.390050Z"
    }
   },
   "outputs": [],
   "source": [
    "# Transformacao do valor do ID da loja - utilizado apenas para consulta\n",
    "df1['id_loja']=df1['id_loja'].astype(str)"
   ]
  },
  {
   "cell_type": "code",
   "execution_count": 65,
   "id": "9f56e633",
   "metadata": {
    "ExecuteTime": {
     "end_time": "2022-10-11T22:14:48.075091Z",
     "start_time": "2022-10-11T22:14:48.051100Z"
    }
   },
   "outputs": [],
   "source": [
    "# Criando Novas colunas (ano, mes, dia da venda)\n",
    "df1['ano_venda']=df['data_venda'].dt.year\n",
    "df1['mes_venda']=df['data_venda'].dt.month\n",
    "df1['dia_venda']=df['data_venda'].dt.day\n",
    "\n",
    "# Criando Nova coluna de lucro\n",
    "df1['lucro']  = df1['valor_venda'] - df1['custo_unitario'] "
   ]
  },
  {
   "cell_type": "code",
   "execution_count": 66,
   "id": "52e432f0",
   "metadata": {
    "ExecuteTime": {
     "end_time": "2022-10-11T22:14:51.624960Z",
     "start_time": "2022-10-11T22:14:51.583962Z"
    }
   },
   "outputs": [
    {
     "data": {
      "text/html": [
       "<div>\n",
       "<style scoped>\n",
       "    .dataframe tbody tr th:only-of-type {\n",
       "        vertical-align: middle;\n",
       "    }\n",
       "\n",
       "    .dataframe tbody tr th {\n",
       "        vertical-align: top;\n",
       "    }\n",
       "\n",
       "    .dataframe thead th {\n",
       "        text-align: right;\n",
       "    }\n",
       "</style>\n",
       "<table border=\"1\" class=\"dataframe\">\n",
       "  <thead>\n",
       "    <tr style=\"text-align: right;\">\n",
       "      <th></th>\n",
       "      <th>data_venda</th>\n",
       "      <th>data_envio</th>\n",
       "      <th>id_loja</th>\n",
       "      <th>id_produto</th>\n",
       "      <th>id_cliente</th>\n",
       "      <th>numero_venda</th>\n",
       "      <th>custo_unitario</th>\n",
       "      <th>preço_unitario</th>\n",
       "      <th>quantidade</th>\n",
       "      <th>valor_desconto</th>\n",
       "      <th>...</th>\n",
       "      <th>produto</th>\n",
       "      <th>fabricante</th>\n",
       "      <th>marca</th>\n",
       "      <th>classe</th>\n",
       "      <th>cor</th>\n",
       "      <th>ano_venda</th>\n",
       "      <th>mes_venda</th>\n",
       "      <th>dia_venda</th>\n",
       "      <th>lucro</th>\n",
       "      <th>tempo_envio</th>\n",
       "    </tr>\n",
       "  </thead>\n",
       "  <tbody>\n",
       "    <tr>\n",
       "      <th>45</th>\n",
       "      <td>2008-05-12</td>\n",
       "      <td>2008-05-17</td>\n",
       "      <td>306</td>\n",
       "      <td>1203</td>\n",
       "      <td>19051</td>\n",
       "      <td>200805124CS567</td>\n",
       "      <td>324.69</td>\n",
       "      <td>980.00</td>\n",
       "      <td>6</td>\n",
       "      <td>0.00</td>\n",
       "      <td>...</td>\n",
       "      <td>Fabrikam Trendsetter 2/3'' 17mm X100 Grey</td>\n",
       "      <td>Fabrikam, Inc.</td>\n",
       "      <td>Fabrikam</td>\n",
       "      <td>Regular</td>\n",
       "      <td>Grey</td>\n",
       "      <td>2008</td>\n",
       "      <td>5</td>\n",
       "      <td>12</td>\n",
       "      <td>5,555.31</td>\n",
       "      <td>5</td>\n",
       "    </tr>\n",
       "  </tbody>\n",
       "</table>\n",
       "<p>1 rows × 21 columns</p>\n",
       "</div>"
      ],
      "text/plain": [
       "   data_venda data_envio id_loja  id_produto  id_cliente    numero_venda  \\\n",
       "45 2008-05-12 2008-05-17     306        1203       19051  200805124CS567   \n",
       "\n",
       "         custo_unitario       preço_unitario  quantidade       valor_desconto  \\\n",
       "45               324.69               980.00           6                 0.00   \n",
       "\n",
       "    ...                                    produto      fabricante     marca  \\\n",
       "45  ...  Fabrikam Trendsetter 2/3'' 17mm X100 Grey  Fabrikam, Inc.  Fabrikam   \n",
       "\n",
       "     classe   cor ano_venda  mes_venda  dia_venda                lucro  \\\n",
       "45  Regular  Grey      2008          5         12             5,555.31   \n",
       "\n",
       "    tempo_envio  \n",
       "45            5  \n",
       "\n",
       "[1 rows x 21 columns]"
      ]
     },
     "execution_count": 66,
     "metadata": {},
     "output_type": "execute_result"
    }
   ],
   "source": [
    "df1.sample(1)"
   ]
  },
  {
   "cell_type": "code",
   "execution_count": 77,
   "id": "88667e92",
   "metadata": {
    "ExecuteTime": {
     "end_time": "2022-10-11T22:21:41.913131Z",
     "start_time": "2022-10-11T22:21:41.904134Z"
    }
   },
   "outputs": [],
   "source": [
    "# Formata casas decimais\n",
    "pd.options.display.float_format = '{:20,.2f}'.format"
   ]
  },
  {
   "cell_type": "markdown",
   "id": "5ee5d531",
   "metadata": {},
   "source": [
    "## 6- Analise dos dados"
   ]
  },
  {
   "cell_type": "markdown",
   "id": "95827b0c",
   "metadata": {},
   "source": [
    "### Estatistica Descritiva"
   ]
  },
  {
   "cell_type": "markdown",
   "id": "45fcde6e",
   "metadata": {},
   "source": [
    "#### Quartil"
   ]
  },
  {
   "cell_type": "code",
   "execution_count": 78,
   "id": "782c181c",
   "metadata": {
    "ExecuteTime": {
     "end_time": "2022-10-11T22:21:48.406067Z",
     "start_time": "2022-10-11T22:21:48.350067Z"
    }
   },
   "outputs": [
    {
     "data": {
      "text/html": [
       "<div>\n",
       "<style scoped>\n",
       "    .dataframe tbody tr th:only-of-type {\n",
       "        vertical-align: middle;\n",
       "    }\n",
       "\n",
       "    .dataframe tbody tr th {\n",
       "        vertical-align: top;\n",
       "    }\n",
       "\n",
       "    .dataframe thead th {\n",
       "        text-align: right;\n",
       "    }\n",
       "</style>\n",
       "<table border=\"1\" class=\"dataframe\">\n",
       "  <thead>\n",
       "    <tr style=\"text-align: right;\">\n",
       "      <th></th>\n",
       "      <th>id_produto</th>\n",
       "      <th>id_cliente</th>\n",
       "      <th>custo_unitario</th>\n",
       "      <th>preço_unitario</th>\n",
       "      <th>quantidade</th>\n",
       "      <th>valor_desconto</th>\n",
       "      <th>valor_venda</th>\n",
       "      <th>ano_venda</th>\n",
       "      <th>mes_venda</th>\n",
       "      <th>dia_venda</th>\n",
       "      <th>lucro</th>\n",
       "      <th>tempo_envio</th>\n",
       "    </tr>\n",
       "  </thead>\n",
       "  <tbody>\n",
       "    <tr>\n",
       "      <th>count</th>\n",
       "      <td>904.00</td>\n",
       "      <td>904.00</td>\n",
       "      <td>904.00</td>\n",
       "      <td>904.00</td>\n",
       "      <td>904.00</td>\n",
       "      <td>904.00</td>\n",
       "      <td>904.00</td>\n",
       "      <td>904.00</td>\n",
       "      <td>904.00</td>\n",
       "      <td>904.00</td>\n",
       "      <td>904.00</td>\n",
       "      <td>904.00</td>\n",
       "    </tr>\n",
       "    <tr>\n",
       "      <th>mean</th>\n",
       "      <td>1,225.24</td>\n",
       "      <td>19,029.09</td>\n",
       "      <td>272.01</td>\n",
       "      <td>742.53</td>\n",
       "      <td>62.95</td>\n",
       "      <td>689.12</td>\n",
       "      <td>6,620.14</td>\n",
       "      <td>2,008.48</td>\n",
       "      <td>6.81</td>\n",
       "      <td>15.40</td>\n",
       "      <td>6,348.13</td>\n",
       "      <td>8.54</td>\n",
       "    </tr>\n",
       "    <tr>\n",
       "      <th>std</th>\n",
       "      <td>706.70</td>\n",
       "      <td>96.43</td>\n",
       "      <td>129.77</td>\n",
       "      <td>368.59</td>\n",
       "      <td>148.95</td>\n",
       "      <td>822.36</td>\n",
       "      <td>4,319.41</td>\n",
       "      <td>0.50</td>\n",
       "      <td>3.55</td>\n",
       "      <td>8.90</td>\n",
       "      <td>4,264.58</td>\n",
       "      <td>3.06</td>\n",
       "    </tr>\n",
       "    <tr>\n",
       "      <th>min</th>\n",
       "      <td>366.00</td>\n",
       "      <td>18,815.00</td>\n",
       "      <td>5.09</td>\n",
       "      <td>9.99</td>\n",
       "      <td>2.00</td>\n",
       "      <td>0.00</td>\n",
       "      <td>159.84</td>\n",
       "      <td>2,008.00</td>\n",
       "      <td>1.00</td>\n",
       "      <td>1.00</td>\n",
       "      <td>154.75</td>\n",
       "      <td>4.00</td>\n",
       "    </tr>\n",
       "    <tr>\n",
       "      <th>25%</th>\n",
       "      <td>384.00</td>\n",
       "      <td>18,964.75</td>\n",
       "      <td>324.69</td>\n",
       "      <td>758.00</td>\n",
       "      <td>6.00</td>\n",
       "      <td>0.00</td>\n",
       "      <td>3,920.00</td>\n",
       "      <td>2,008.00</td>\n",
       "      <td>4.00</td>\n",
       "      <td>7.00</td>\n",
       "      <td>3,595.31</td>\n",
       "      <td>6.00</td>\n",
       "    </tr>\n",
       "    <tr>\n",
       "      <th>50%</th>\n",
       "      <td>1,202.00</td>\n",
       "      <td>19,060.00</td>\n",
       "      <td>330.66</td>\n",
       "      <td>980.00</td>\n",
       "      <td>9.00</td>\n",
       "      <td>461.17</td>\n",
       "      <td>5,798.70</td>\n",
       "      <td>2,008.00</td>\n",
       "      <td>7.00</td>\n",
       "      <td>15.00</td>\n",
       "      <td>5,450.12</td>\n",
       "      <td>9.00</td>\n",
       "    </tr>\n",
       "    <tr>\n",
       "      <th>75%</th>\n",
       "      <td>1,226.00</td>\n",
       "      <td>19,107.00</td>\n",
       "      <td>348.58</td>\n",
       "      <td>998.00</td>\n",
       "      <td>17.00</td>\n",
       "      <td>1,005.08</td>\n",
       "      <td>7,986.00</td>\n",
       "      <td>2,009.00</td>\n",
       "      <td>10.00</td>\n",
       "      <td>23.00</td>\n",
       "      <td>7,661.01</td>\n",
       "      <td>11.00</td>\n",
       "    </tr>\n",
       "    <tr>\n",
       "      <th>max</th>\n",
       "      <td>2,497.00</td>\n",
       "      <td>19,145.00</td>\n",
       "      <td>348.58</td>\n",
       "      <td>999.00</td>\n",
       "      <td>1,560.00</td>\n",
       "      <td>6,272.00</td>\n",
       "      <td>29,400.00</td>\n",
       "      <td>2,009.00</td>\n",
       "      <td>12.00</td>\n",
       "      <td>31.00</td>\n",
       "      <td>29,075.31</td>\n",
       "      <td>20.00</td>\n",
       "    </tr>\n",
       "  </tbody>\n",
       "</table>\n",
       "</div>"
      ],
      "text/plain": [
       "                id_produto           id_cliente       custo_unitario  \\\n",
       "count               904.00               904.00               904.00   \n",
       "mean              1,225.24            19,029.09               272.01   \n",
       "std                 706.70                96.43               129.77   \n",
       "min                 366.00            18,815.00                 5.09   \n",
       "25%                 384.00            18,964.75               324.69   \n",
       "50%               1,202.00            19,060.00               330.66   \n",
       "75%               1,226.00            19,107.00               348.58   \n",
       "max               2,497.00            19,145.00               348.58   \n",
       "\n",
       "            preço_unitario           quantidade       valor_desconto  \\\n",
       "count               904.00               904.00               904.00   \n",
       "mean                742.53                62.95               689.12   \n",
       "std                 368.59               148.95               822.36   \n",
       "min                   9.99                 2.00                 0.00   \n",
       "25%                 758.00                 6.00                 0.00   \n",
       "50%                 980.00                 9.00               461.17   \n",
       "75%                 998.00                17.00             1,005.08   \n",
       "max                 999.00             1,560.00             6,272.00   \n",
       "\n",
       "               valor_venda            ano_venda            mes_venda  \\\n",
       "count               904.00               904.00               904.00   \n",
       "mean              6,620.14             2,008.48                 6.81   \n",
       "std               4,319.41                 0.50                 3.55   \n",
       "min                 159.84             2,008.00                 1.00   \n",
       "25%               3,920.00             2,008.00                 4.00   \n",
       "50%               5,798.70             2,008.00                 7.00   \n",
       "75%               7,986.00             2,009.00                10.00   \n",
       "max              29,400.00             2,009.00                12.00   \n",
       "\n",
       "                 dia_venda                lucro          tempo_envio  \n",
       "count               904.00               904.00               904.00  \n",
       "mean                 15.40             6,348.13                 8.54  \n",
       "std                   8.90             4,264.58                 3.06  \n",
       "min                   1.00               154.75                 4.00  \n",
       "25%                   7.00             3,595.31                 6.00  \n",
       "50%                  15.00             5,450.12                 9.00  \n",
       "75%                  23.00             7,661.01                11.00  \n",
       "max                  31.00            29,075.31                20.00  "
      ]
     },
     "execution_count": 78,
     "metadata": {},
     "output_type": "execute_result"
    }
   ],
   "source": [
    "# Quartil dataframe\n",
    "df1.describe()"
   ]
  },
  {
   "cell_type": "code",
   "execution_count": 79,
   "id": "afc2bd8a",
   "metadata": {
    "ExecuteTime": {
     "end_time": "2022-10-11T22:21:54.194057Z",
     "start_time": "2022-10-11T22:21:54.174053Z"
    }
   },
   "outputs": [
    {
     "data": {
      "text/plain": [
       "count                 904.00\n",
       "mean                6,348.13\n",
       "std                 4,264.58\n",
       "min                   154.75\n",
       "25%                 3,595.31\n",
       "50%                 5,450.12\n",
       "75%                 7,661.01\n",
       "max                29,075.31\n",
       "Name: lucro, dtype: float64"
      ]
     },
     "execution_count": 79,
     "metadata": {},
     "output_type": "execute_result"
    }
   ],
   "source": [
    "# Quartil por lucro\n",
    "df1['lucro'].describe()"
   ]
  },
  {
   "cell_type": "markdown",
   "id": "c5c20121",
   "metadata": {},
   "source": [
    "#### Variaveis numericas e Variaveis Categoricas"
   ]
  },
  {
   "cell_type": "code",
   "execution_count": 18,
   "id": "8025e33a",
   "metadata": {
    "ExecuteTime": {
     "end_time": "2022-10-11T21:55:49.442813Z",
     "start_time": "2022-10-11T21:55:49.417819Z"
    }
   },
   "outputs": [
    {
     "data": {
      "text/plain": [
       "data_venda        datetime64[ns]\n",
       "data_envio        datetime64[ns]\n",
       "id_loja                   object\n",
       "id_produto                 int64\n",
       "id_cliente                 int64\n",
       "numero_venda              object\n",
       "custo_unitario           float64\n",
       "preço_unitario           float64\n",
       "quantidade                 int64\n",
       "valor_desconto           float64\n",
       "valor_venda              float64\n",
       "produto                   object\n",
       "fabricante                object\n",
       "marca                     object\n",
       "classe                    object\n",
       "cor                       object\n",
       "ano_venda                  int64\n",
       "mes_venda                  int64\n",
       "dia_venda                  int64\n",
       "lucro                    float64\n",
       "dtype: object"
      ]
     },
     "execution_count": 18,
     "metadata": {},
     "output_type": "execute_result"
    }
   ],
   "source": [
    "df1.dtypes"
   ]
  },
  {
   "cell_type": "code",
   "execution_count": 80,
   "id": "75a2d11b",
   "metadata": {
    "ExecuteTime": {
     "end_time": "2022-10-11T22:22:03.427032Z",
     "start_time": "2022-10-11T22:22:03.380037Z"
    }
   },
   "outputs": [
    {
     "data": {
      "text/html": [
       "<div>\n",
       "<style scoped>\n",
       "    .dataframe tbody tr th:only-of-type {\n",
       "        vertical-align: middle;\n",
       "    }\n",
       "\n",
       "    .dataframe tbody tr th {\n",
       "        vertical-align: top;\n",
       "    }\n",
       "\n",
       "    .dataframe thead th {\n",
       "        text-align: right;\n",
       "    }\n",
       "</style>\n",
       "<table border=\"1\" class=\"dataframe\">\n",
       "  <thead>\n",
       "    <tr style=\"text-align: right;\">\n",
       "      <th></th>\n",
       "      <th>id_produto</th>\n",
       "      <th>id_cliente</th>\n",
       "      <th>custo_unitario</th>\n",
       "      <th>preço_unitario</th>\n",
       "      <th>quantidade</th>\n",
       "      <th>valor_desconto</th>\n",
       "      <th>valor_venda</th>\n",
       "      <th>ano_venda</th>\n",
       "      <th>mes_venda</th>\n",
       "      <th>dia_venda</th>\n",
       "      <th>lucro</th>\n",
       "      <th>tempo_envio</th>\n",
       "    </tr>\n",
       "  </thead>\n",
       "  <tbody>\n",
       "    <tr>\n",
       "      <th>0</th>\n",
       "      <td>384</td>\n",
       "      <td>18839</td>\n",
       "      <td>348.58</td>\n",
       "      <td>758.00</td>\n",
       "      <td>6</td>\n",
       "      <td>0.00</td>\n",
       "      <td>4,548.00</td>\n",
       "      <td>2008</td>\n",
       "      <td>5</td>\n",
       "      <td>9</td>\n",
       "      <td>4,199.42</td>\n",
       "      <td>20</td>\n",
       "    </tr>\n",
       "    <tr>\n",
       "      <th>1</th>\n",
       "      <td>384</td>\n",
       "      <td>19051</td>\n",
       "      <td>348.58</td>\n",
       "      <td>758.00</td>\n",
       "      <td>6</td>\n",
       "      <td>0.00</td>\n",
       "      <td>4,548.00</td>\n",
       "      <td>2008</td>\n",
       "      <td>5</td>\n",
       "      <td>12</td>\n",
       "      <td>4,199.42</td>\n",
       "      <td>5</td>\n",
       "    </tr>\n",
       "    <tr>\n",
       "      <th>2</th>\n",
       "      <td>384</td>\n",
       "      <td>19052</td>\n",
       "      <td>348.58</td>\n",
       "      <td>758.00</td>\n",
       "      <td>6</td>\n",
       "      <td>0.00</td>\n",
       "      <td>4,548.00</td>\n",
       "      <td>2008</td>\n",
       "      <td>5</td>\n",
       "      <td>14</td>\n",
       "      <td>4,199.42</td>\n",
       "      <td>6</td>\n",
       "    </tr>\n",
       "    <tr>\n",
       "      <th>3</th>\n",
       "      <td>384</td>\n",
       "      <td>19052</td>\n",
       "      <td>348.58</td>\n",
       "      <td>758.00</td>\n",
       "      <td>6</td>\n",
       "      <td>0.00</td>\n",
       "      <td>4,548.00</td>\n",
       "      <td>2008</td>\n",
       "      <td>5</td>\n",
       "      <td>21</td>\n",
       "      <td>4,199.42</td>\n",
       "      <td>6</td>\n",
       "    </tr>\n",
       "    <tr>\n",
       "      <th>4</th>\n",
       "      <td>384</td>\n",
       "      <td>19053</td>\n",
       "      <td>348.58</td>\n",
       "      <td>758.00</td>\n",
       "      <td>6</td>\n",
       "      <td>0.00</td>\n",
       "      <td>4,548.00</td>\n",
       "      <td>2008</td>\n",
       "      <td>6</td>\n",
       "      <td>20</td>\n",
       "      <td>4,199.42</td>\n",
       "      <td>7</td>\n",
       "    </tr>\n",
       "    <tr>\n",
       "      <th>...</th>\n",
       "      <td>...</td>\n",
       "      <td>...</td>\n",
       "      <td>...</td>\n",
       "      <td>...</td>\n",
       "      <td>...</td>\n",
       "      <td>...</td>\n",
       "      <td>...</td>\n",
       "      <td>...</td>\n",
       "      <td>...</td>\n",
       "      <td>...</td>\n",
       "      <td>...</td>\n",
       "      <td>...</td>\n",
       "    </tr>\n",
       "    <tr>\n",
       "      <th>899</th>\n",
       "      <td>1226</td>\n",
       "      <td>19049</td>\n",
       "      <td>330.99</td>\n",
       "      <td>999.00</td>\n",
       "      <td>6</td>\n",
       "      <td>419.58</td>\n",
       "      <td>5,574.42</td>\n",
       "      <td>2008</td>\n",
       "      <td>3</td>\n",
       "      <td>22</td>\n",
       "      <td>5,243.43</td>\n",
       "      <td>13</td>\n",
       "    </tr>\n",
       "    <tr>\n",
       "      <th>900</th>\n",
       "      <td>1155</td>\n",
       "      <td>19057</td>\n",
       "      <td>324.69</td>\n",
       "      <td>980.00</td>\n",
       "      <td>6</td>\n",
       "      <td>1,176.00</td>\n",
       "      <td>4,704.00</td>\n",
       "      <td>2008</td>\n",
       "      <td>10</td>\n",
       "      <td>4</td>\n",
       "      <td>4,379.31</td>\n",
       "      <td>11</td>\n",
       "    </tr>\n",
       "    <tr>\n",
       "      <th>901</th>\n",
       "      <td>1155</td>\n",
       "      <td>19060</td>\n",
       "      <td>324.69</td>\n",
       "      <td>980.00</td>\n",
       "      <td>6</td>\n",
       "      <td>1,176.00</td>\n",
       "      <td>4,704.00</td>\n",
       "      <td>2008</td>\n",
       "      <td>12</td>\n",
       "      <td>11</td>\n",
       "      <td>4,379.31</td>\n",
       "      <td>4</td>\n",
       "    </tr>\n",
       "    <tr>\n",
       "      <th>902</th>\n",
       "      <td>1226</td>\n",
       "      <td>19060</td>\n",
       "      <td>330.99</td>\n",
       "      <td>999.00</td>\n",
       "      <td>6</td>\n",
       "      <td>1,198.80</td>\n",
       "      <td>4,795.20</td>\n",
       "      <td>2008</td>\n",
       "      <td>12</td>\n",
       "      <td>17</td>\n",
       "      <td>4,464.21</td>\n",
       "      <td>4</td>\n",
       "    </tr>\n",
       "    <tr>\n",
       "      <th>903</th>\n",
       "      <td>1155</td>\n",
       "      <td>19060</td>\n",
       "      <td>324.69</td>\n",
       "      <td>980.00</td>\n",
       "      <td>6</td>\n",
       "      <td>1,176.00</td>\n",
       "      <td>4,704.00</td>\n",
       "      <td>2008</td>\n",
       "      <td>12</td>\n",
       "      <td>21</td>\n",
       "      <td>4,379.31</td>\n",
       "      <td>4</td>\n",
       "    </tr>\n",
       "  </tbody>\n",
       "</table>\n",
       "<p>904 rows × 12 columns</p>\n",
       "</div>"
      ],
      "text/plain": [
       "     id_produto  id_cliente       custo_unitario       preço_unitario  \\\n",
       "0           384       18839               348.58               758.00   \n",
       "1           384       19051               348.58               758.00   \n",
       "2           384       19052               348.58               758.00   \n",
       "3           384       19052               348.58               758.00   \n",
       "4           384       19053               348.58               758.00   \n",
       "..          ...         ...                  ...                  ...   \n",
       "899        1226       19049               330.99               999.00   \n",
       "900        1155       19057               324.69               980.00   \n",
       "901        1155       19060               324.69               980.00   \n",
       "902        1226       19060               330.99               999.00   \n",
       "903        1155       19060               324.69               980.00   \n",
       "\n",
       "     quantidade       valor_desconto          valor_venda  ano_venda  \\\n",
       "0             6                 0.00             4,548.00       2008   \n",
       "1             6                 0.00             4,548.00       2008   \n",
       "2             6                 0.00             4,548.00       2008   \n",
       "3             6                 0.00             4,548.00       2008   \n",
       "4             6                 0.00             4,548.00       2008   \n",
       "..          ...                  ...                  ...        ...   \n",
       "899           6               419.58             5,574.42       2008   \n",
       "900           6             1,176.00             4,704.00       2008   \n",
       "901           6             1,176.00             4,704.00       2008   \n",
       "902           6             1,198.80             4,795.20       2008   \n",
       "903           6             1,176.00             4,704.00       2008   \n",
       "\n",
       "     mes_venda  dia_venda                lucro  tempo_envio  \n",
       "0            5          9             4,199.42           20  \n",
       "1            5         12             4,199.42            5  \n",
       "2            5         14             4,199.42            6  \n",
       "3            5         21             4,199.42            6  \n",
       "4            6         20             4,199.42            7  \n",
       "..         ...        ...                  ...          ...  \n",
       "899          3         22             5,243.43           13  \n",
       "900         10          4             4,379.31           11  \n",
       "901         12         11             4,379.31            4  \n",
       "902         12         17             4,464.21            4  \n",
       "903         12         21             4,379.31            4  \n",
       "\n",
       "[904 rows x 12 columns]"
      ]
     },
     "execution_count": 80,
     "metadata": {},
     "output_type": "execute_result"
    }
   ],
   "source": [
    "# variaveis numericas\n",
    "variaveis_numericas = df1.select_dtypes(include=['int64', 'float64'])\n",
    "variaveis_numericas"
   ]
  },
  {
   "cell_type": "code",
   "execution_count": 81,
   "id": "90066728",
   "metadata": {
    "ExecuteTime": {
     "end_time": "2022-10-11T22:22:13.852424Z",
     "start_time": "2022-10-11T22:22:09.732930Z"
    }
   },
   "outputs": [
    {
     "data": {
      "image/png": "[encoded data removed]",
      "text/plain": [
       "<Figure size 2000x1700 with 12 Axes>"
      ]
     },
     "metadata": {},
     "output_type": "display_data"
    }
   ],
   "source": [
    "# Histograma\n",
    "variaveis_numericas.hist(bins = 30, figsize = (20,17));"
   ]
  },
  {
   "cell_type": "code",
   "execution_count": 82,
   "id": "54e2582a",
   "metadata": {
    "ExecuteTime": {
     "end_time": "2022-10-11T22:22:19.442844Z",
     "start_time": "2022-10-11T22:22:19.404852Z"
    }
   },
   "outputs": [
    {
     "data": {
      "text/html": [
       "<div>\n",
       "<style scoped>\n",
       "    .dataframe tbody tr th:only-of-type {\n",
       "        vertical-align: middle;\n",
       "    }\n",
       "\n",
       "    .dataframe tbody tr th {\n",
       "        vertical-align: top;\n",
       "    }\n",
       "\n",
       "    .dataframe thead th {\n",
       "        text-align: right;\n",
       "    }\n",
       "</style>\n",
       "<table border=\"1\" class=\"dataframe\">\n",
       "  <thead>\n",
       "    <tr style=\"text-align: right;\">\n",
       "      <th></th>\n",
       "      <th>id_loja</th>\n",
       "      <th>numero_venda</th>\n",
       "      <th>produto</th>\n",
       "      <th>fabricante</th>\n",
       "      <th>marca</th>\n",
       "      <th>classe</th>\n",
       "      <th>cor</th>\n",
       "    </tr>\n",
       "  </thead>\n",
       "  <tbody>\n",
       "    <tr>\n",
       "      <th>0</th>\n",
       "      <td>199</td>\n",
       "      <td>200805093CS607</td>\n",
       "      <td>Adventure Works Laptop15.4W M1548 Red</td>\n",
       "      <td>Adventure Works</td>\n",
       "      <td>Adventure Works</td>\n",
       "      <td>Regular</td>\n",
       "      <td>Red</td>\n",
       "    </tr>\n",
       "    <tr>\n",
       "      <th>1</th>\n",
       "      <td>306</td>\n",
       "      <td>200805123CS567</td>\n",
       "      <td>Adventure Works Laptop15.4W M1548 Red</td>\n",
       "      <td>Adventure Works</td>\n",
       "      <td>Adventure Works</td>\n",
       "      <td>Regular</td>\n",
       "      <td>Red</td>\n",
       "    </tr>\n",
       "    <tr>\n",
       "      <th>2</th>\n",
       "      <td>306</td>\n",
       "      <td>200805143CS576</td>\n",
       "      <td>Adventure Works Laptop15.4W M1548 Red</td>\n",
       "      <td>Adventure Works</td>\n",
       "      <td>Adventure Works</td>\n",
       "      <td>Regular</td>\n",
       "      <td>Red</td>\n",
       "    </tr>\n",
       "    <tr>\n",
       "      <th>3</th>\n",
       "      <td>306</td>\n",
       "      <td>200805213CS576</td>\n",
       "      <td>Adventure Works Laptop15.4W M1548 Red</td>\n",
       "      <td>Adventure Works</td>\n",
       "      <td>Adventure Works</td>\n",
       "      <td>Regular</td>\n",
       "      <td>Red</td>\n",
       "    </tr>\n",
       "    <tr>\n",
       "      <th>4</th>\n",
       "      <td>306</td>\n",
       "      <td>200806203CS586</td>\n",
       "      <td>Adventure Works Laptop15.4W M1548 Red</td>\n",
       "      <td>Adventure Works</td>\n",
       "      <td>Adventure Works</td>\n",
       "      <td>Regular</td>\n",
       "      <td>Red</td>\n",
       "    </tr>\n",
       "    <tr>\n",
       "      <th>...</th>\n",
       "      <td>...</td>\n",
       "      <td>...</td>\n",
       "      <td>...</td>\n",
       "      <td>...</td>\n",
       "      <td>...</td>\n",
       "      <td>...</td>\n",
       "      <td>...</td>\n",
       "    </tr>\n",
       "    <tr>\n",
       "      <th>899</th>\n",
       "      <td>306</td>\n",
       "      <td>200803224CS555</td>\n",
       "      <td>Fabrikam Trendsetter 1/3'' 8.5mm X200 Black</td>\n",
       "      <td>Fabrikam, Inc.</td>\n",
       "      <td>Fabrikam</td>\n",
       "      <td>Regular</td>\n",
       "      <td>Black</td>\n",
       "    </tr>\n",
       "    <tr>\n",
       "      <th>900</th>\n",
       "      <td>306</td>\n",
       "      <td>200810044CS636</td>\n",
       "      <td>Fabrikam Trendsetter 2/3'' 17mm X100 Black</td>\n",
       "      <td>Fabrikam, Inc.</td>\n",
       "      <td>Fabrikam</td>\n",
       "      <td>Regular</td>\n",
       "      <td>Black</td>\n",
       "    </tr>\n",
       "    <tr>\n",
       "      <th>901</th>\n",
       "      <td>306</td>\n",
       "      <td>200812114CS676</td>\n",
       "      <td>Fabrikam Trendsetter 2/3'' 17mm X100 Black</td>\n",
       "      <td>Fabrikam, Inc.</td>\n",
       "      <td>Fabrikam</td>\n",
       "      <td>Regular</td>\n",
       "      <td>Black</td>\n",
       "    </tr>\n",
       "    <tr>\n",
       "      <th>902</th>\n",
       "      <td>306</td>\n",
       "      <td>200812174CS676</td>\n",
       "      <td>Fabrikam Trendsetter 1/3'' 8.5mm X200 Black</td>\n",
       "      <td>Fabrikam, Inc.</td>\n",
       "      <td>Fabrikam</td>\n",
       "      <td>Regular</td>\n",
       "      <td>Black</td>\n",
       "    </tr>\n",
       "    <tr>\n",
       "      <th>903</th>\n",
       "      <td>306</td>\n",
       "      <td>200812214CS676</td>\n",
       "      <td>Fabrikam Trendsetter 2/3'' 17mm X100 Black</td>\n",
       "      <td>Fabrikam, Inc.</td>\n",
       "      <td>Fabrikam</td>\n",
       "      <td>Regular</td>\n",
       "      <td>Black</td>\n",
       "    </tr>\n",
       "  </tbody>\n",
       "</table>\n",
       "<p>904 rows × 7 columns</p>\n",
       "</div>"
      ],
      "text/plain": [
       "    id_loja    numero_venda                                      produto  \\\n",
       "0       199  200805093CS607        Adventure Works Laptop15.4W M1548 Red   \n",
       "1       306  200805123CS567        Adventure Works Laptop15.4W M1548 Red   \n",
       "2       306  200805143CS576        Adventure Works Laptop15.4W M1548 Red   \n",
       "3       306  200805213CS576        Adventure Works Laptop15.4W M1548 Red   \n",
       "4       306  200806203CS586        Adventure Works Laptop15.4W M1548 Red   \n",
       "..      ...             ...                                          ...   \n",
       "899     306  200803224CS555  Fabrikam Trendsetter 1/3'' 8.5mm X200 Black   \n",
       "900     306  200810044CS636   Fabrikam Trendsetter 2/3'' 17mm X100 Black   \n",
       "901     306  200812114CS676   Fabrikam Trendsetter 2/3'' 17mm X100 Black   \n",
       "902     306  200812174CS676  Fabrikam Trendsetter 1/3'' 8.5mm X200 Black   \n",
       "903     306  200812214CS676   Fabrikam Trendsetter 2/3'' 17mm X100 Black   \n",
       "\n",
       "          fabricante            marca   classe    cor  \n",
       "0    Adventure Works  Adventure Works  Regular    Red  \n",
       "1    Adventure Works  Adventure Works  Regular    Red  \n",
       "2    Adventure Works  Adventure Works  Regular    Red  \n",
       "3    Adventure Works  Adventure Works  Regular    Red  \n",
       "4    Adventure Works  Adventure Works  Regular    Red  \n",
       "..               ...              ...      ...    ...  \n",
       "899   Fabrikam, Inc.         Fabrikam  Regular  Black  \n",
       "900   Fabrikam, Inc.         Fabrikam  Regular  Black  \n",
       "901   Fabrikam, Inc.         Fabrikam  Regular  Black  \n",
       "902   Fabrikam, Inc.         Fabrikam  Regular  Black  \n",
       "903   Fabrikam, Inc.         Fabrikam  Regular  Black  \n",
       "\n",
       "[904 rows x 7 columns]"
      ]
     },
     "execution_count": 82,
     "metadata": {},
     "output_type": "execute_result"
    }
   ],
   "source": [
    "# variaveis categoricas\n",
    "variaveis_categoricas = df1.select_dtypes( exclude=['int64', 'float64', 'datetime64[ns]']) \n",
    "variaveis_categoricas"
   ]
  },
  {
   "cell_type": "markdown",
   "id": "3ed50d51",
   "metadata": {},
   "source": [
    "### Lucro por marca"
   ]
  },
  {
   "cell_type": "code",
   "execution_count": 83,
   "id": "59f13501",
   "metadata": {
    "ExecuteTime": {
     "end_time": "2022-10-11T22:22:25.247825Z",
     "start_time": "2022-10-11T22:22:25.231824Z"
    }
   },
   "outputs": [
    {
     "data": {
      "text/plain": [
       "marca\n",
       "Adventure Works           1,373,641.08\n",
       "Contoso                     449,521.07\n",
       "Fabrikam                  3,915,550.43\n",
       "Name: lucro, dtype: float64"
      ]
     },
     "execution_count": 83,
     "metadata": {},
     "output_type": "execute_result"
    }
   ],
   "source": [
    "# Lucro por marca\n",
    "df1.groupby(['marca'])['lucro'].sum()\n"
   ]
  },
  {
   "cell_type": "code",
   "execution_count": 84,
   "id": "f70aa22f",
   "metadata": {
    "ExecuteTime": {
     "end_time": "2022-10-11T22:22:30.028788Z",
     "start_time": "2022-10-11T22:22:29.755788Z"
    }
   },
   "outputs": [
    {
     "data": {
      "image/png": "[encoded data removed]",
      "text/plain": [
       "<Figure size 640x480 with 1 Axes>"
      ]
     },
     "metadata": {},
     "output_type": "display_data"
    }
   ],
   "source": [
    "df1.groupby(['marca'])['lucro'].sum().plot.barh(title='Lucro X Marca')\n",
    "plt.xlabel('Lucro')\n",
    "plt.ylabel('Marca');\n"
   ]
  },
  {
   "cell_type": "code",
   "execution_count": 85,
   "id": "b7b6e19b",
   "metadata": {
    "ExecuteTime": {
     "end_time": "2022-10-11T22:23:07.193017Z",
     "start_time": "2022-10-11T22:23:06.965610Z"
    }
   },
   "outputs": [
    {
     "data": {
      "image/png": "[encoded data removed]",
      "text/plain": [
       "<Figure size 640x480 with 1 Axes>"
      ]
     },
     "metadata": {},
     "output_type": "display_data"
    }
   ],
   "source": [
    "# Distribuicao das vendas por marca e ano\n",
    "df1.groupby(['ano_venda', 'marca'])['lucro'].sum().plot.pie(title ='Vendas X Marca');"
   ]
  },
  {
   "cell_type": "markdown",
   "id": "ec677637",
   "metadata": {},
   "source": [
    "### Lucro por mês"
   ]
  },
  {
   "cell_type": "code",
   "execution_count": 86,
   "id": "665510ed",
   "metadata": {
    "ExecuteTime": {
     "end_time": "2022-10-11T22:23:14.171558Z",
     "start_time": "2022-10-11T22:23:14.147558Z"
    }
   },
   "outputs": [
    {
     "data": {
      "text/plain": [
       "mes_venda\n",
       "1              341,471.88\n",
       "2              539,669.55\n",
       "3              407,269.76\n",
       "4              277,034.39\n",
       "5              472,197.27\n",
       "6              809,835.29\n",
       "7              622,797.03\n",
       "8              233,804.37\n",
       "9              395,473.79\n",
       "10             518,672.55\n",
       "11             490,057.01\n",
       "12             630,429.68\n",
       "Name: lucro, dtype: float64"
      ]
     },
     "execution_count": 86,
     "metadata": {},
     "output_type": "execute_result"
    }
   ],
   "source": [
    "df1.groupby('mes_venda')['lucro'].sum()"
   ]
  },
  {
   "cell_type": "code",
   "execution_count": 87,
   "id": "20108376",
   "metadata": {
    "ExecuteTime": {
     "end_time": "2022-10-11T22:23:22.067423Z",
     "start_time": "2022-10-11T22:23:21.667426Z"
    }
   },
   "outputs": [
    {
     "data": {
      "image/png": "[encoded data removed]",
      "text/plain": [
       "<Figure size 640x480 with 1 Axes>"
      ]
     },
     "metadata": {},
     "output_type": "display_data"
    }
   ],
   "source": [
    "df1.groupby('mes_venda')['lucro'].sum().plot.bar(color='blue',title='Lucro X Mês')\n",
    "plt.xlabel('Mês')\n",
    "plt.ylabel('Lucro');"
   ]
  },
  {
   "cell_type": "markdown",
   "id": "60bb3edf",
   "metadata": {},
   "source": [
    "### Lucro por Ano"
   ]
  },
  {
   "cell_type": "code",
   "execution_count": 88,
   "id": "e40b0878",
   "metadata": {
    "ExecuteTime": {
     "end_time": "2022-10-11T22:23:32.143419Z",
     "start_time": "2022-10-11T22:23:32.118422Z"
    }
   },
   "outputs": [
    {
     "data": {
      "text/plain": [
       "ano_venda  marca          \n",
       "2008       Adventure Works             587,248.06\n",
       "           Contoso                     130,490.77\n",
       "           Fabrikam                  2,339,704.29\n",
       "2009       Adventure Works             786,393.02\n",
       "           Contoso                     319,030.30\n",
       "           Fabrikam                  1,575,846.14\n",
       "Name: lucro, dtype: float64"
      ]
     },
     "execution_count": 88,
     "metadata": {},
     "output_type": "execute_result"
    }
   ],
   "source": [
    "# Lucro por marca\n",
    "lucro_marca = df1.groupby(['ano_venda', 'marca'])['lucro'].sum()\n",
    "lucro_marca"
   ]
  },
  {
   "cell_type": "code",
   "execution_count": 89,
   "id": "9622f94c",
   "metadata": {
    "ExecuteTime": {
     "end_time": "2022-10-11T22:23:37.040389Z",
     "start_time": "2022-10-11T22:23:36.743399Z"
    }
   },
   "outputs": [
    {
     "data": {
      "image/png": "[encoded data removed]",
      "text/plain": [
       "<Figure size 640x480 with 1 Axes>"
      ]
     },
     "metadata": {},
     "output_type": "display_data"
    }
   ],
   "source": [
    "lucro_marca.plot.barh(color='green',title='Lucro X Marca');\n",
    "plt.xlabel('Lucro')\n",
    "plt.ylabel('Marca');"
   ]
  },
  {
   "cell_type": "markdown",
   "id": "cb6227e3",
   "metadata": {},
   "source": [
    "### Unidade com maior quantidade de vendas"
   ]
  },
  {
   "cell_type": "code",
   "execution_count": 92,
   "id": "b9f54bc3",
   "metadata": {
    "ExecuteTime": {
     "end_time": "2022-10-11T22:24:46.361738Z",
     "start_time": "2022-10-11T22:24:46.342735Z"
    }
   },
   "outputs": [
    {
     "data": {
      "text/plain": [
       "id_loja\n",
       "199           2,098,652.25\n",
       "306           1,645,236.26\n",
       "307           1,994,824.07\n",
       "Name: lucro, dtype: float64"
      ]
     },
     "execution_count": 92,
     "metadata": {},
     "output_type": "execute_result"
    }
   ],
   "source": [
    "# Lojas(unidades) com maiores venda/ano\n",
    "df1.groupby(['id_loja'])['lucro'].sum()"
   ]
  },
  {
   "cell_type": "code",
   "execution_count": 93,
   "id": "b4ef8b6b",
   "metadata": {
    "ExecuteTime": {
     "end_time": "2022-10-11T22:25:21.717527Z",
     "start_time": "2022-10-11T22:25:21.418528Z"
    }
   },
   "outputs": [
    {
     "data": {
      "image/png": "[encoded data removed]",
      "text/plain": [
       "<Figure size 640x480 with 1 Axes>"
      ]
     },
     "metadata": {},
     "output_type": "display_data"
    }
   ],
   "source": [
    "# Loja com maior venda\n",
    "df1.groupby(['id_loja'])['lucro'].sum().plot.barh(color='blue', title='Qtd Vendas X Loja')\n",
    "plt.xlabel('Vendas')\n",
    "plt.ylabel('Loja');"
   ]
  },
  {
   "cell_type": "markdown",
   "id": "80db2d05",
   "metadata": {},
   "source": [
    "### Cor mais vendido"
   ]
  },
  {
   "cell_type": "code",
   "execution_count": 94,
   "id": "7c06fd43",
   "metadata": {
    "ExecuteTime": {
     "end_time": "2022-10-11T22:25:49.095116Z",
     "start_time": "2022-10-11T22:25:49.072115Z"
    }
   },
   "outputs": [
    {
     "data": {
      "text/plain": [
       "Black     315\n",
       "Grey      212\n",
       "White     175\n",
       "Red       115\n",
       "Silver     87\n",
       "Name: cor, dtype: int64"
      ]
     },
     "execution_count": 94,
     "metadata": {},
     "output_type": "execute_result"
    }
   ],
   "source": [
    "# Cores mais vendidos\n",
    "df1['cor'].value_counts(ascending=False)"
   ]
  },
  {
   "cell_type": "code",
   "execution_count": 95,
   "id": "15873f9f",
   "metadata": {
    "ExecuteTime": {
     "end_time": "2022-10-11T22:25:52.748159Z",
     "start_time": "2022-10-11T22:25:52.567159Z"
    }
   },
   "outputs": [
    {
     "data": {
      "image/png": "[encoded data removed]",
      "text/plain": [
       "<Figure size 640x480 with 1 Axes>"
      ]
     },
     "metadata": {},
     "output_type": "display_data"
    }
   ],
   "source": [
    "df1['cor'].value_counts().plot.pie(title='Distribuição por Cor do Item');"
   ]
  },
  {
   "cell_type": "markdown",
   "id": "27aa8df5",
   "metadata": {
    "ExecuteTime": {
     "end_time": "2022-10-11T18:43:12.442168Z",
     "start_time": "2022-10-11T18:43:12.405162Z"
    }
   },
   "source": [
    "### Tempo de Envio"
   ]
  },
  {
   "cell_type": "code",
   "execution_count": 96,
   "id": "0014322d",
   "metadata": {
    "ExecuteTime": {
     "end_time": "2022-10-11T22:26:05.400962Z",
     "start_time": "2022-10-11T22:26:05.378961Z"
    }
   },
   "outputs": [],
   "source": [
    "df1['tempo_envio'] = ( df1['data_envio']-df1['data_venda'] ).dt.days"
   ]
  },
  {
   "cell_type": "code",
   "execution_count": 97,
   "id": "1008e163",
   "metadata": {
    "ExecuteTime": {
     "end_time": "2022-10-11T22:26:07.618101Z",
     "start_time": "2022-10-11T22:26:07.573105Z"
    }
   },
   "outputs": [
    {
     "data": {
      "text/html": [
       "<div>\n",
       "<style scoped>\n",
       "    .dataframe tbody tr th:only-of-type {\n",
       "        vertical-align: middle;\n",
       "    }\n",
       "\n",
       "    .dataframe tbody tr th {\n",
       "        vertical-align: top;\n",
       "    }\n",
       "\n",
       "    .dataframe thead th {\n",
       "        text-align: right;\n",
       "    }\n",
       "</style>\n",
       "<table border=\"1\" class=\"dataframe\">\n",
       "  <thead>\n",
       "    <tr style=\"text-align: right;\">\n",
       "      <th></th>\n",
       "      <th>data_venda</th>\n",
       "      <th>data_envio</th>\n",
       "      <th>id_loja</th>\n",
       "      <th>id_produto</th>\n",
       "      <th>id_cliente</th>\n",
       "      <th>numero_venda</th>\n",
       "      <th>custo_unitario</th>\n",
       "      <th>preço_unitario</th>\n",
       "      <th>quantidade</th>\n",
       "      <th>valor_desconto</th>\n",
       "      <th>...</th>\n",
       "      <th>produto</th>\n",
       "      <th>fabricante</th>\n",
       "      <th>marca</th>\n",
       "      <th>classe</th>\n",
       "      <th>cor</th>\n",
       "      <th>ano_venda</th>\n",
       "      <th>mes_venda</th>\n",
       "      <th>dia_venda</th>\n",
       "      <th>lucro</th>\n",
       "      <th>tempo_envio</th>\n",
       "    </tr>\n",
       "  </thead>\n",
       "  <tbody>\n",
       "    <tr>\n",
       "      <th>674</th>\n",
       "      <td>2008-04-15</td>\n",
       "      <td>2008-04-26</td>\n",
       "      <td>307</td>\n",
       "      <td>384</td>\n",
       "      <td>19097</td>\n",
       "      <td>200804153CS558</td>\n",
       "      <td>348.58</td>\n",
       "      <td>758.00</td>\n",
       "      <td>5</td>\n",
       "      <td>758.00</td>\n",
       "      <td>...</td>\n",
       "      <td>Adventure Works Laptop15.4W M1548 Red</td>\n",
       "      <td>Adventure Works</td>\n",
       "      <td>Adventure Works</td>\n",
       "      <td>Regular</td>\n",
       "      <td>Red</td>\n",
       "      <td>2008</td>\n",
       "      <td>4</td>\n",
       "      <td>15</td>\n",
       "      <td>2,683.42</td>\n",
       "      <td>11</td>\n",
       "    </tr>\n",
       "  </tbody>\n",
       "</table>\n",
       "<p>1 rows × 21 columns</p>\n",
       "</div>"
      ],
      "text/plain": [
       "    data_venda data_envio id_loja  id_produto  id_cliente    numero_venda  \\\n",
       "674 2008-04-15 2008-04-26     307         384       19097  200804153CS558   \n",
       "\n",
       "          custo_unitario       preço_unitario  quantidade  \\\n",
       "674               348.58               758.00           5   \n",
       "\n",
       "          valor_desconto  ...                                produto  \\\n",
       "674               758.00  ...  Adventure Works Laptop15.4W M1548 Red   \n",
       "\n",
       "          fabricante            marca   classe  cor ano_venda  mes_venda  \\\n",
       "674  Adventure Works  Adventure Works  Regular  Red      2008          4   \n",
       "\n",
       "     dia_venda                lucro  tempo_envio  \n",
       "674         15             2,683.42           11  \n",
       "\n",
       "[1 rows x 21 columns]"
      ]
     },
     "execution_count": 97,
     "metadata": {},
     "output_type": "execute_result"
    }
   ],
   "source": [
    "df1.sample(1)"
   ]
  },
  {
   "cell_type": "code",
   "execution_count": 98,
   "id": "d4d523ed",
   "metadata": {
    "ExecuteTime": {
     "end_time": "2022-10-11T22:26:11.420445Z",
     "start_time": "2022-10-11T22:26:11.407446Z"
    }
   },
   "outputs": [
    {
     "data": {
      "text/plain": [
       "marca\n",
       "Adventure Works                   8.66\n",
       "Contoso                           8.47\n",
       "Fabrikam                          8.51\n",
       "Name: tempo_envio, dtype: float64"
      ]
     },
     "execution_count": 98,
     "metadata": {},
     "output_type": "execute_result"
    }
   ],
   "source": [
    "# Media do tempo de envio por marca\n",
    "df1.groupby('marca')['tempo_envio'].mean()"
   ]
  },
  {
   "cell_type": "code",
   "execution_count": 99,
   "id": "f3962d3f",
   "metadata": {
    "ExecuteTime": {
     "end_time": "2022-10-11T22:26:17.338877Z",
     "start_time": "2022-10-11T22:26:17.304875Z"
    }
   },
   "outputs": [
    {
     "data": {
      "text/html": [
       "<div>\n",
       "<style scoped>\n",
       "    .dataframe tbody tr th:only-of-type {\n",
       "        vertical-align: middle;\n",
       "    }\n",
       "\n",
       "    .dataframe tbody tr th {\n",
       "        vertical-align: top;\n",
       "    }\n",
       "\n",
       "    .dataframe thead th {\n",
       "        text-align: right;\n",
       "    }\n",
       "</style>\n",
       "<table border=\"1\" class=\"dataframe\">\n",
       "  <thead>\n",
       "    <tr style=\"text-align: right;\">\n",
       "      <th></th>\n",
       "      <th>produto</th>\n",
       "      <th>tempo_envio</th>\n",
       "    </tr>\n",
       "  </thead>\n",
       "  <tbody>\n",
       "    <tr>\n",
       "      <th>0</th>\n",
       "      <td>Adventure Works Laptop15.4W M1548 Black</td>\n",
       "      <td>8.30</td>\n",
       "    </tr>\n",
       "    <tr>\n",
       "      <th>1</th>\n",
       "      <td>Adventure Works Laptop15.4W M1548 Red</td>\n",
       "      <td>9.05</td>\n",
       "    </tr>\n",
       "    <tr>\n",
       "      <th>2</th>\n",
       "      <td>Fabrikam Trendsetter 1/3'' 8.5mm X200 Black</td>\n",
       "      <td>8.67</td>\n",
       "    </tr>\n",
       "    <tr>\n",
       "      <th>3</th>\n",
       "      <td>Fabrikam Trendsetter 1/3'' 8.5mm X200 Grey</td>\n",
       "      <td>8.26</td>\n",
       "    </tr>\n",
       "    <tr>\n",
       "      <th>4</th>\n",
       "      <td>Fabrikam Trendsetter 1/3'' 8.5mm X200 White</td>\n",
       "      <td>8.69</td>\n",
       "    </tr>\n",
       "    <tr>\n",
       "      <th>5</th>\n",
       "      <td>Fabrikam Trendsetter 2/3'' 17mm X100 Black</td>\n",
       "      <td>8.17</td>\n",
       "    </tr>\n",
       "    <tr>\n",
       "      <th>6</th>\n",
       "      <td>Fabrikam Trendsetter 2/3'' 17mm X100 Grey</td>\n",
       "      <td>8.75</td>\n",
       "    </tr>\n",
       "    <tr>\n",
       "      <th>7</th>\n",
       "      <td>Headphone Adapter for Contoso Phone E130 Silver</td>\n",
       "      <td>8.30</td>\n",
       "    </tr>\n",
       "    <tr>\n",
       "      <th>8</th>\n",
       "      <td>Headphone Adapter for Contoso Phone E130 White</td>\n",
       "      <td>8.65</td>\n",
       "    </tr>\n",
       "  </tbody>\n",
       "</table>\n",
       "</div>"
      ],
      "text/plain": [
       "                                           produto          tempo_envio\n",
       "0          Adventure Works Laptop15.4W M1548 Black                 8.30\n",
       "1            Adventure Works Laptop15.4W M1548 Red                 9.05\n",
       "2      Fabrikam Trendsetter 1/3'' 8.5mm X200 Black                 8.67\n",
       "3       Fabrikam Trendsetter 1/3'' 8.5mm X200 Grey                 8.26\n",
       "4      Fabrikam Trendsetter 1/3'' 8.5mm X200 White                 8.69\n",
       "5       Fabrikam Trendsetter 2/3'' 17mm X100 Black                 8.17\n",
       "6        Fabrikam Trendsetter 2/3'' 17mm X100 Grey                 8.75\n",
       "7  Headphone Adapter for Contoso Phone E130 Silver                 8.30\n",
       "8   Headphone Adapter for Contoso Phone E130 White                 8.65"
      ]
     },
     "execution_count": 99,
     "metadata": {},
     "output_type": "execute_result"
    }
   ],
   "source": [
    "# Media do tempo de envio por produto\n",
    "df1.groupby('produto')['tempo_envio'].mean().reset_index()"
   ]
  },
  {
   "cell_type": "code",
   "execution_count": 100,
   "id": "8cec4eb5",
   "metadata": {
    "ExecuteTime": {
     "end_time": "2022-10-11T22:26:20.417207Z",
     "start_time": "2022-10-11T22:26:20.386211Z"
    }
   },
   "outputs": [
    {
     "data": {
      "text/html": [
       "<div>\n",
       "<style scoped>\n",
       "    .dataframe tbody tr th:only-of-type {\n",
       "        vertical-align: middle;\n",
       "    }\n",
       "\n",
       "    .dataframe tbody tr th {\n",
       "        vertical-align: top;\n",
       "    }\n",
       "\n",
       "    .dataframe thead th {\n",
       "        text-align: right;\n",
       "    }\n",
       "</style>\n",
       "<table border=\"1\" class=\"dataframe\">\n",
       "  <thead>\n",
       "    <tr style=\"text-align: right;\">\n",
       "      <th></th>\n",
       "      <th>produto</th>\n",
       "      <th>tempo_envio</th>\n",
       "    </tr>\n",
       "  </thead>\n",
       "  <tbody>\n",
       "    <tr>\n",
       "      <th>0</th>\n",
       "      <td>Adventure Works Laptop15.4W M1548 Black</td>\n",
       "      <td>4</td>\n",
       "    </tr>\n",
       "    <tr>\n",
       "      <th>1</th>\n",
       "      <td>Adventure Works Laptop15.4W M1548 Red</td>\n",
       "      <td>4</td>\n",
       "    </tr>\n",
       "    <tr>\n",
       "      <th>2</th>\n",
       "      <td>Fabrikam Trendsetter 1/3'' 8.5mm X200 Black</td>\n",
       "      <td>4</td>\n",
       "    </tr>\n",
       "    <tr>\n",
       "      <th>3</th>\n",
       "      <td>Fabrikam Trendsetter 1/3'' 8.5mm X200 Grey</td>\n",
       "      <td>4</td>\n",
       "    </tr>\n",
       "    <tr>\n",
       "      <th>4</th>\n",
       "      <td>Fabrikam Trendsetter 1/3'' 8.5mm X200 White</td>\n",
       "      <td>4</td>\n",
       "    </tr>\n",
       "    <tr>\n",
       "      <th>5</th>\n",
       "      <td>Fabrikam Trendsetter 2/3'' 17mm X100 Black</td>\n",
       "      <td>4</td>\n",
       "    </tr>\n",
       "    <tr>\n",
       "      <th>6</th>\n",
       "      <td>Fabrikam Trendsetter 2/3'' 17mm X100 Grey</td>\n",
       "      <td>4</td>\n",
       "    </tr>\n",
       "    <tr>\n",
       "      <th>7</th>\n",
       "      <td>Headphone Adapter for Contoso Phone E130 Silver</td>\n",
       "      <td>4</td>\n",
       "    </tr>\n",
       "    <tr>\n",
       "      <th>8</th>\n",
       "      <td>Headphone Adapter for Contoso Phone E130 White</td>\n",
       "      <td>4</td>\n",
       "    </tr>\n",
       "  </tbody>\n",
       "</table>\n",
       "</div>"
      ],
      "text/plain": [
       "                                           produto  tempo_envio\n",
       "0          Adventure Works Laptop15.4W M1548 Black            4\n",
       "1            Adventure Works Laptop15.4W M1548 Red            4\n",
       "2      Fabrikam Trendsetter 1/3'' 8.5mm X200 Black            4\n",
       "3       Fabrikam Trendsetter 1/3'' 8.5mm X200 Grey            4\n",
       "4      Fabrikam Trendsetter 1/3'' 8.5mm X200 White            4\n",
       "5       Fabrikam Trendsetter 2/3'' 17mm X100 Black            4\n",
       "6        Fabrikam Trendsetter 2/3'' 17mm X100 Grey            4\n",
       "7  Headphone Adapter for Contoso Phone E130 Silver            4\n",
       "8   Headphone Adapter for Contoso Phone E130 White            4"
      ]
     },
     "execution_count": 100,
     "metadata": {},
     "output_type": "execute_result"
    }
   ],
   "source": [
    "# Menor tempo de envio por produto\n",
    "df1.groupby('produto')['tempo_envio'].min().reset_index()"
   ]
  },
  {
   "cell_type": "code",
   "execution_count": 101,
   "id": "d08febcb",
   "metadata": {
    "ExecuteTime": {
     "end_time": "2022-10-11T22:26:22.992203Z",
     "start_time": "2022-10-11T22:26:22.959213Z"
    }
   },
   "outputs": [
    {
     "data": {
      "text/html": [
       "<div>\n",
       "<style scoped>\n",
       "    .dataframe tbody tr th:only-of-type {\n",
       "        vertical-align: middle;\n",
       "    }\n",
       "\n",
       "    .dataframe tbody tr th {\n",
       "        vertical-align: top;\n",
       "    }\n",
       "\n",
       "    .dataframe thead th {\n",
       "        text-align: right;\n",
       "    }\n",
       "</style>\n",
       "<table border=\"1\" class=\"dataframe\">\n",
       "  <thead>\n",
       "    <tr style=\"text-align: right;\">\n",
       "      <th></th>\n",
       "      <th>produto</th>\n",
       "      <th>tempo_envio</th>\n",
       "    </tr>\n",
       "  </thead>\n",
       "  <tbody>\n",
       "    <tr>\n",
       "      <th>0</th>\n",
       "      <td>Adventure Works Laptop15.4W M1548 Black</td>\n",
       "      <td>13</td>\n",
       "    </tr>\n",
       "    <tr>\n",
       "      <th>1</th>\n",
       "      <td>Adventure Works Laptop15.4W M1548 Red</td>\n",
       "      <td>20</td>\n",
       "    </tr>\n",
       "    <tr>\n",
       "      <th>2</th>\n",
       "      <td>Fabrikam Trendsetter 1/3'' 8.5mm X200 Black</td>\n",
       "      <td>13</td>\n",
       "    </tr>\n",
       "    <tr>\n",
       "      <th>3</th>\n",
       "      <td>Fabrikam Trendsetter 1/3'' 8.5mm X200 Grey</td>\n",
       "      <td>13</td>\n",
       "    </tr>\n",
       "    <tr>\n",
       "      <th>4</th>\n",
       "      <td>Fabrikam Trendsetter 1/3'' 8.5mm X200 White</td>\n",
       "      <td>13</td>\n",
       "    </tr>\n",
       "    <tr>\n",
       "      <th>5</th>\n",
       "      <td>Fabrikam Trendsetter 2/3'' 17mm X100 Black</td>\n",
       "      <td>13</td>\n",
       "    </tr>\n",
       "    <tr>\n",
       "      <th>6</th>\n",
       "      <td>Fabrikam Trendsetter 2/3'' 17mm X100 Grey</td>\n",
       "      <td>13</td>\n",
       "    </tr>\n",
       "    <tr>\n",
       "      <th>7</th>\n",
       "      <td>Headphone Adapter for Contoso Phone E130 Silver</td>\n",
       "      <td>13</td>\n",
       "    </tr>\n",
       "    <tr>\n",
       "      <th>8</th>\n",
       "      <td>Headphone Adapter for Contoso Phone E130 White</td>\n",
       "      <td>13</td>\n",
       "    </tr>\n",
       "  </tbody>\n",
       "</table>\n",
       "</div>"
      ],
      "text/plain": [
       "                                           produto  tempo_envio\n",
       "0          Adventure Works Laptop15.4W M1548 Black           13\n",
       "1            Adventure Works Laptop15.4W M1548 Red           20\n",
       "2      Fabrikam Trendsetter 1/3'' 8.5mm X200 Black           13\n",
       "3       Fabrikam Trendsetter 1/3'' 8.5mm X200 Grey           13\n",
       "4      Fabrikam Trendsetter 1/3'' 8.5mm X200 White           13\n",
       "5       Fabrikam Trendsetter 2/3'' 17mm X100 Black           13\n",
       "6        Fabrikam Trendsetter 2/3'' 17mm X100 Grey           13\n",
       "7  Headphone Adapter for Contoso Phone E130 Silver           13\n",
       "8   Headphone Adapter for Contoso Phone E130 White           13"
      ]
     },
     "execution_count": 101,
     "metadata": {},
     "output_type": "execute_result"
    }
   ],
   "source": [
    "# Maior tempo de envio por produto\n",
    "df1.groupby('produto')['tempo_envio'].max().reset_index()"
   ]
  },
  {
   "cell_type": "code",
   "execution_count": 102,
   "id": "f0a8e8e2",
   "metadata": {
    "ExecuteTime": {
     "end_time": "2022-10-11T22:26:26.537965Z",
     "start_time": "2022-10-11T22:26:26.025104Z"
    }
   },
   "outputs": [
    {
     "data": {
      "text/plain": [
       "produto\n",
       "Adventure Works Laptop15.4W M1548 Black            AxesSubplot(0.125,0.11;0.775x0.77)\n",
       "Adventure Works Laptop15.4W M1548 Red              AxesSubplot(0.125,0.11;0.775x0.77)\n",
       "Fabrikam Trendsetter 1/3'' 8.5mm X200 Black        AxesSubplot(0.125,0.11;0.775x0.77)\n",
       "Fabrikam Trendsetter 1/3'' 8.5mm X200 Grey         AxesSubplot(0.125,0.11;0.775x0.77)\n",
       "Fabrikam Trendsetter 1/3'' 8.5mm X200 White        AxesSubplot(0.125,0.11;0.775x0.77)\n",
       "Fabrikam Trendsetter 2/3'' 17mm X100 Black         AxesSubplot(0.125,0.11;0.775x0.77)\n",
       "Fabrikam Trendsetter 2/3'' 17mm X100 Grey          AxesSubplot(0.125,0.11;0.775x0.77)\n",
       "Headphone Adapter for Contoso Phone E130 Silver    AxesSubplot(0.125,0.11;0.775x0.77)\n",
       "Headphone Adapter for Contoso Phone E130 White     AxesSubplot(0.125,0.11;0.775x0.77)\n",
       "Name: tempo_envio, dtype: object"
      ]
     },
     "execution_count": 102,
     "metadata": {},
     "output_type": "execute_result"
    },
    {
     "data": {
      "image/png": "[encoded data removed]",
      "text/plain": [
       "<Figure size 640x480 with 1 Axes>"
      ]
     },
     "metadata": {},
     "output_type": "display_data"
    }
   ],
   "source": [
    "#Histograma Produto x tempo de envio\n",
    "df1.groupby('produto')['tempo_envio'].hist()\n"
   ]
  },
  {
   "cell_type": "code",
   "execution_count": 85,
   "id": "49067798",
   "metadata": {
    "ExecuteTime": {
     "end_time": "2022-10-11T18:58:56.547022Z",
     "start_time": "2022-10-11T18:58:56.317013Z"
    }
   },
   "outputs": [
    {
     "data": {
      "image/png": "[encoded data removed]",
      "text/plain": [
       "<Figure size 640x480 with 1 Axes>"
      ]
     },
     "metadata": {},
     "output_type": "display_data"
    }
   ],
   "source": [
    "# Analise de data fora do \n",
    "plt.boxplot(df1['tempo_envio']);"
   ]
  },
  {
   "cell_type": "code",
   "execution_count": 103,
   "id": "c50a1f9b",
   "metadata": {
    "ExecuteTime": {
     "end_time": "2022-10-11T22:26:29.564148Z",
     "start_time": "2022-10-11T22:26:29.512153Z"
    }
   },
   "outputs": [
    {
     "data": {
      "text/html": [
       "<div>\n",
       "<style scoped>\n",
       "    .dataframe tbody tr th:only-of-type {\n",
       "        vertical-align: middle;\n",
       "    }\n",
       "\n",
       "    .dataframe tbody tr th {\n",
       "        vertical-align: top;\n",
       "    }\n",
       "\n",
       "    .dataframe thead th {\n",
       "        text-align: right;\n",
       "    }\n",
       "</style>\n",
       "<table border=\"1\" class=\"dataframe\">\n",
       "  <thead>\n",
       "    <tr style=\"text-align: right;\">\n",
       "      <th></th>\n",
       "      <th>data_venda</th>\n",
       "      <th>data_envio</th>\n",
       "      <th>id_loja</th>\n",
       "      <th>id_produto</th>\n",
       "      <th>id_cliente</th>\n",
       "      <th>numero_venda</th>\n",
       "      <th>custo_unitario</th>\n",
       "      <th>preço_unitario</th>\n",
       "      <th>quantidade</th>\n",
       "      <th>valor_desconto</th>\n",
       "      <th>...</th>\n",
       "      <th>produto</th>\n",
       "      <th>fabricante</th>\n",
       "      <th>marca</th>\n",
       "      <th>classe</th>\n",
       "      <th>cor</th>\n",
       "      <th>ano_venda</th>\n",
       "      <th>mes_venda</th>\n",
       "      <th>dia_venda</th>\n",
       "      <th>lucro</th>\n",
       "      <th>tempo_envio</th>\n",
       "    </tr>\n",
       "  </thead>\n",
       "  <tbody>\n",
       "    <tr>\n",
       "      <th>0</th>\n",
       "      <td>2008-05-09</td>\n",
       "      <td>2008-05-29</td>\n",
       "      <td>199</td>\n",
       "      <td>384</td>\n",
       "      <td>18839</td>\n",
       "      <td>200805093CS607</td>\n",
       "      <td>348.58</td>\n",
       "      <td>758.00</td>\n",
       "      <td>6</td>\n",
       "      <td>0.00</td>\n",
       "      <td>...</td>\n",
       "      <td>Adventure Works Laptop15.4W M1548 Red</td>\n",
       "      <td>Adventure Works</td>\n",
       "      <td>Adventure Works</td>\n",
       "      <td>Regular</td>\n",
       "      <td>Red</td>\n",
       "      <td>2008</td>\n",
       "      <td>5</td>\n",
       "      <td>9</td>\n",
       "      <td>4,199.42</td>\n",
       "      <td>20</td>\n",
       "    </tr>\n",
       "  </tbody>\n",
       "</table>\n",
       "<p>1 rows × 21 columns</p>\n",
       "</div>"
      ],
      "text/plain": [
       "  data_venda data_envio id_loja  id_produto  id_cliente    numero_venda  \\\n",
       "0 2008-05-09 2008-05-29     199         384       18839  200805093CS607   \n",
       "\n",
       "        custo_unitario       preço_unitario  quantidade       valor_desconto  \\\n",
       "0               348.58               758.00           6                 0.00   \n",
       "\n",
       "   ...                                produto       fabricante  \\\n",
       "0  ...  Adventure Works Laptop15.4W M1548 Red  Adventure Works   \n",
       "\n",
       "             marca   classe  cor ano_venda  mes_venda  dia_venda  \\\n",
       "0  Adventure Works  Regular  Red      2008          5          9   \n",
       "\n",
       "                 lucro  tempo_envio  \n",
       "0             4,199.42           20  \n",
       "\n",
       "[1 rows x 21 columns]"
      ]
     },
     "execution_count": 103,
     "metadata": {},
     "output_type": "execute_result"
    }
   ],
   "source": [
    "# identificando o produto com mais de 20 dias de entrega (outlier)\n",
    "df1[df1['tempo_envio'] == 20]"
   ]
  },
  {
   "cell_type": "markdown",
   "id": "22268dcd",
   "metadata": {},
   "source": [
    "## 7- Analise exploratoria dos dados (Hipoteses)"
   ]
  },
  {
   "cell_type": "markdown",
   "id": "61d67a5f",
   "metadata": {
    "heading_collapsed": true
   },
   "source": [
    "### H1. Dezembro é o mês de maior Lucratividade.\n",
    "### H2. A marca \"Adventure Works\" vende mais.\n",
    "### H3: O produto \"Headphone Adapter\" é o mais vendido.\n",
    "### H4: Dezembro e o mes com a maior quantidade de item vendido.\n",
    "### H5: A loja que vende mais itens, vende aproximadamente 15000 itens.\n",
    "### H6: 2008 foi o ano com maior lucratividade."
   ]
  },
  {
   "cell_type": "markdown",
   "id": "cd98aa19",
   "metadata": {},
   "source": [
    "### H1. Dezembro é o mês de maior Lucratividade."
   ]
  },
  {
   "cell_type": "code",
   "execution_count": 104,
   "id": "18011c0a",
   "metadata": {
    "ExecuteTime": {
     "end_time": "2022-10-11T22:26:37.977804Z",
     "start_time": "2022-10-11T22:26:37.952814Z"
    }
   },
   "outputs": [
    {
     "data": {
      "text/plain": [
       "mes_venda\n",
       "1              341,471.88\n",
       "2              539,669.55\n",
       "3              407,269.76\n",
       "4              277,034.39\n",
       "5              472,197.27\n",
       "6              809,835.29\n",
       "7              622,797.03\n",
       "8              233,804.37\n",
       "9              395,473.79\n",
       "10             518,672.55\n",
       "11             490,057.01\n",
       "12             630,429.68\n",
       "Name: lucro, dtype: float64"
      ]
     },
     "execution_count": 104,
     "metadata": {},
     "output_type": "execute_result"
    }
   ],
   "source": [
    "df1.groupby(df1['mes_venda'])['lucro'].sum()"
   ]
  },
  {
   "cell_type": "code",
   "execution_count": 105,
   "id": "a8627337",
   "metadata": {
    "ExecuteTime": {
     "end_time": "2022-10-11T22:26:41.552250Z",
     "start_time": "2022-10-11T22:26:41.264078Z"
    }
   },
   "outputs": [
    {
     "data": {
      "image/png": "[encoded data removed]",
      "text/plain": [
       "<Figure size 640x480 with 1 Axes>"
      ]
     },
     "metadata": {},
     "output_type": "display_data"
    }
   ],
   "source": [
    "df1.groupby(df1['mes_venda'])['lucro'].sum().plot(title = 'Lucro X Mês')\n",
    "plt.xlabel(\"Mês\")\n",
    "plt.ylabel(\"Lucro\");"
   ]
  },
  {
   "cell_type": "code",
   "execution_count": 106,
   "id": "a0431a3a",
   "metadata": {
    "ExecuteTime": {
     "end_time": "2022-10-11T22:26:46.202020Z",
     "start_time": "2022-10-11T22:26:46.183020Z"
    }
   },
   "outputs": [
    {
     "name": "stdout",
     "output_type": "stream",
     "text": [
      "H1: Dezembro é o mês de maior Lucratividade.\n",
      "RESPOSTA: FALSO. Conforme a análise do gráfico identificamos que junho é o mês com maior venda.\n"
     ]
    }
   ],
   "source": [
    "# Resposta\n",
    "print('H1: Dezembro é o mês de maior Lucratividade.')\n",
    "print('RESPOSTA: FALSO. Conforme a análise do gráfico identificamos que junho é o mês com maior venda.')"
   ]
  },
  {
   "cell_type": "markdown",
   "id": "f9dbb4e9",
   "metadata": {},
   "source": [
    "### H2. A marca \"Adventure Works\" vende mais."
   ]
  },
  {
   "cell_type": "code",
   "execution_count": 107,
   "id": "715e3ff8",
   "metadata": {
    "ExecuteTime": {
     "end_time": "2022-10-11T22:26:51.400768Z",
     "start_time": "2022-10-11T22:26:51.375768Z"
    }
   },
   "outputs": [
    {
     "data": {
      "text/plain": [
       "marca\n",
       "Adventure Works     2136\n",
       "Contoso            50240\n",
       "Fabrikam            4531\n",
       "Name: quantidade, dtype: int64"
      ]
     },
     "execution_count": 107,
     "metadata": {},
     "output_type": "execute_result"
    }
   ],
   "source": [
    "df1.groupby(df1['marca'])['quantidade'].sum()"
   ]
  },
  {
   "cell_type": "code",
   "execution_count": 110,
   "id": "129bab18",
   "metadata": {
    "ExecuteTime": {
     "end_time": "2022-10-11T22:27:54.703123Z",
     "start_time": "2022-10-11T22:27:54.471577Z"
    }
   },
   "outputs": [
    {
     "data": {
      "image/png": "[encoded data removed]",
      "text/plain": [
       "<Figure size 640x480 with 1 Axes>"
      ]
     },
     "metadata": {},
     "output_type": "display_data"
    }
   ],
   "source": [
    "df1.groupby(df1['marca'])['quantidade'].sum().plot.barh(title='Quantidade X Marca');\n",
    "plt.xlabel('Quantidade')\n",
    "plt.ylabel('Marca');"
   ]
  },
  {
   "cell_type": "code",
   "execution_count": 111,
   "id": "33e5568b",
   "metadata": {
    "ExecuteTime": {
     "end_time": "2022-10-11T22:28:01.749397Z",
     "start_time": "2022-10-11T22:28:01.734407Z"
    }
   },
   "outputs": [
    {
     "name": "stdout",
     "output_type": "stream",
     "text": [
      "H2. A marca \"Adventure Works\" vende mais.\n",
      "RESPOSTA: FALSO. a marca Adventure Works foi o que teve a menor venda.\n"
     ]
    }
   ],
   "source": [
    "# Resposta\n",
    "print('H2. A marca \"Adventure Works\" vende mais.')\n",
    "print('RESPOSTA: FALSO. a marca Adventure Works foi o que teve a menor venda.')"
   ]
  },
  {
   "cell_type": "markdown",
   "id": "fca2ade4",
   "metadata": {},
   "source": [
    "### H3: O produto \"Headphone Adapter\" é o mais vendido."
   ]
  },
  {
   "cell_type": "code",
   "execution_count": 112,
   "id": "d5efd2e3",
   "metadata": {
    "ExecuteTime": {
     "end_time": "2022-10-11T22:28:06.056235Z",
     "start_time": "2022-10-11T22:28:06.033244Z"
    }
   },
   "outputs": [
    {
     "data": {
      "text/plain": [
       "array(['Adventure Works Laptop15.4W M1548 Red',\n",
       "       \"Fabrikam Trendsetter 1/3'' 8.5mm X200 White\",\n",
       "       \"Fabrikam Trendsetter 1/3'' 8.5mm X200 Grey\",\n",
       "       \"Fabrikam Trendsetter 2/3'' 17mm X100 Grey\",\n",
       "       \"Fabrikam Trendsetter 2/3'' 17mm X100 Black\",\n",
       "       \"Fabrikam Trendsetter 1/3'' 8.5mm X200 Black\",\n",
       "       'Adventure Works Laptop15.4W M1548 Black',\n",
       "       'Headphone Adapter for Contoso Phone E130 Silver',\n",
       "       'Headphone Adapter for Contoso Phone E130 White'], dtype=object)"
      ]
     },
     "execution_count": 112,
     "metadata": {},
     "output_type": "execute_result"
    }
   ],
   "source": [
    "# Verificando os produtos do dataset\n",
    "df1['produto'].unique()"
   ]
  },
  {
   "cell_type": "code",
   "execution_count": 113,
   "id": "420645b4",
   "metadata": {
    "ExecuteTime": {
     "end_time": "2022-10-11T22:28:10.724322Z",
     "start_time": "2022-10-11T22:28:10.702329Z"
    }
   },
   "outputs": [
    {
     "data": {
      "text/plain": [
       "produto\n",
       "Headphone Adapter for Contoso Phone E130 Silver    25232\n",
       "Headphone Adapter for Contoso Phone E130 White     25008\n",
       "Adventure Works Laptop15.4W M1548 Black             1089\n",
       "Fabrikam Trendsetter 2/3'' 17mm X100 Grey           1087\n",
       "Adventure Works Laptop15.4W M1548 Red               1047\n",
       "Fabrikam Trendsetter 2/3'' 17mm X100 Black           926\n",
       "Fabrikam Trendsetter 1/3'' 8.5mm X200 Black          884\n",
       "Fabrikam Trendsetter 1/3'' 8.5mm X200 Grey           845\n",
       "Fabrikam Trendsetter 1/3'' 8.5mm X200 White          789\n",
       "Name: quantidade, dtype: int64"
      ]
     },
     "execution_count": 113,
     "metadata": {},
     "output_type": "execute_result"
    }
   ],
   "source": [
    "# Verificando a quantidade por produto\n",
    "df1.groupby('produto')['quantidade'].sum().sort_values(ascending=False)"
   ]
  },
  {
   "cell_type": "code",
   "execution_count": 114,
   "id": "9ee07522",
   "metadata": {
    "ExecuteTime": {
     "end_time": "2022-10-11T22:28:33.899483Z",
     "start_time": "2022-10-11T22:28:33.387180Z"
    }
   },
   "outputs": [
    {
     "data": {
      "image/png": "[encoded data removed]",
      "text/plain": [
       "<Figure size 640x480 with 1 Axes>"
      ]
     },
     "metadata": {},
     "output_type": "display_data"
    }
   ],
   "source": [
    "df1.groupby(df1['produto'])['quantidade'].sum().plot.barh(title='Quantidade X Produto')\n",
    "plt.xlabel('Quantidade')\n",
    "plt.ylabel('Produto');"
   ]
  },
  {
   "cell_type": "code",
   "execution_count": 115,
   "id": "b685f79b",
   "metadata": {
    "ExecuteTime": {
     "end_time": "2022-10-11T22:28:45.009928Z",
     "start_time": "2022-10-11T22:28:45.002923Z"
    }
   },
   "outputs": [
    {
     "name": "stdout",
     "output_type": "stream",
     "text": [
      "H3: O produto \"Headphone Adapter\" é o mais vendido.\n",
      "RESPOSTA: VERDADEIRO. O produto com a maior quantidade de venda é \"Headphone Adapter for Contoso Phone E130 Silver\" \n"
     ]
    }
   ],
   "source": [
    "# Resposta\n",
    "print('H3: O produto \"Headphone Adapter\" é o mais vendido.')\n",
    "print('RESPOSTA: VERDADEIRO. O produto com a maior quantidade de venda é \"Headphone Adapter for Contoso Phone E130 Silver\" ')"
   ]
  },
  {
   "cell_type": "markdown",
   "id": "1f099544",
   "metadata": {},
   "source": [
    "### H4: Dezembro e o mes com a maior quantidade de item vendido."
   ]
  },
  {
   "cell_type": "code",
   "execution_count": 116,
   "id": "7bac5b30",
   "metadata": {
    "ExecuteTime": {
     "end_time": "2022-10-11T22:28:53.525549Z",
     "start_time": "2022-10-11T22:28:53.513550Z"
    }
   },
   "outputs": [
    {
     "data": {
      "text/plain": [
       "mes_venda\n",
       "1     2549\n",
       "2     2866\n",
       "3     2238\n",
       "4     1211\n",
       "5     2674\n",
       "6     9701\n",
       "7     5439\n",
       "8     2826\n",
       "9     3933\n",
       "10    6282\n",
       "11    7543\n",
       "12    9645\n",
       "Name: quantidade, dtype: int64"
      ]
     },
     "execution_count": 116,
     "metadata": {},
     "output_type": "execute_result"
    }
   ],
   "source": [
    "df1.groupby('mes_venda')['quantidade'].sum()"
   ]
  },
  {
   "cell_type": "code",
   "execution_count": 117,
   "id": "d036e0d9",
   "metadata": {
    "ExecuteTime": {
     "end_time": "2022-10-11T22:28:56.916329Z",
     "start_time": "2022-10-11T22:28:56.548335Z"
    }
   },
   "outputs": [
    {
     "data": {
      "image/png": "[encoded data removed]",
      "text/plain": [
       "<Figure size 640x480 with 1 Axes>"
      ]
     },
     "metadata": {},
     "output_type": "display_data"
    }
   ],
   "source": [
    "df1.groupby('mes_venda')['quantidade'].sum().plot.bar(title = 'Quantidade de Item X Mês')\n",
    "plt.xlabel('Mês')\n",
    "plt.ylabel('Quantidade');"
   ]
  },
  {
   "cell_type": "code",
   "execution_count": 118,
   "id": "fe30d2b4",
   "metadata": {
    "ExecuteTime": {
     "end_time": "2022-10-11T22:29:03.352968Z",
     "start_time": "2022-10-11T22:29:03.335969Z"
    }
   },
   "outputs": [
    {
     "name": "stdout",
     "output_type": "stream",
     "text": [
      "H4: Dezembro e o mes com a maior quantidade de item vendido.\n",
      "RESPOSTA: FALSO. Junho é o mes com a maior quantidade de itens vendido.\n"
     ]
    }
   ],
   "source": [
    "# Resposta\n",
    "print('H4: Dezembro e o mes com a maior quantidade de item vendido.')\n",
    "print('RESPOSTA: FALSO. Junho é o mes com a maior quantidade de itens vendido.')"
   ]
  },
  {
   "cell_type": "markdown",
   "id": "e820b4f6",
   "metadata": {},
   "source": [
    "### H5: A loja que vende mais itens, vende aproximadamente 15000 itens."
   ]
  },
  {
   "cell_type": "code",
   "execution_count": 119,
   "id": "6953479b",
   "metadata": {
    "ExecuteTime": {
     "end_time": "2022-10-11T22:29:07.104339Z",
     "start_time": "2022-10-11T22:29:07.081339Z"
    }
   },
   "outputs": [
    {
     "data": {
      "text/plain": [
       "id_loja\n",
       "199    20119\n",
       "306    12215\n",
       "307    24573\n",
       "Name: quantidade, dtype: int64"
      ]
     },
     "execution_count": 119,
     "metadata": {},
     "output_type": "execute_result"
    }
   ],
   "source": [
    "df1.groupby('id_loja')['quantidade'].sum()"
   ]
  },
  {
   "cell_type": "code",
   "execution_count": 121,
   "id": "34febcea",
   "metadata": {
    "ExecuteTime": {
     "end_time": "2022-10-11T22:30:14.870571Z",
     "start_time": "2022-10-11T22:30:14.597571Z"
    }
   },
   "outputs": [
    {
     "data": {
      "image/png": "[encoded data removed]",
      "text/plain": [
       "<Figure size 640x480 with 1 Axes>"
      ]
     },
     "metadata": {},
     "output_type": "display_data"
    }
   ],
   "source": [
    "df1.groupby('id_loja')['quantidade'].sum().plot.bar(title = 'Quantidade de Item X Loja')\n",
    "plt.xlabel('Loja')\n",
    "plt.ylabel('Quantidade');"
   ]
  },
  {
   "cell_type": "code",
   "execution_count": 122,
   "id": "630d023b",
   "metadata": {
    "ExecuteTime": {
     "end_time": "2022-10-11T22:30:31.393496Z",
     "start_time": "2022-10-11T22:30:31.371506Z"
    }
   },
   "outputs": [
    {
     "name": "stdout",
     "output_type": "stream",
     "text": [
      "H5: A loja que vende mais itens, vende aproximadamente 15000 itens.\n",
      "RESPOSTA: FALSO. A loja que vende mais itens é em torno de 20000 itens\n"
     ]
    }
   ],
   "source": [
    "# Resposta\n",
    "print('H5: A loja que vende mais itens, vende aproximadamente 15000 itens.')\n",
    "print('RESPOSTA: FALSO. A loja que vende mais itens é em torno de 20000 itens')"
   ]
  },
  {
   "cell_type": "markdown",
   "id": "de93d9a5",
   "metadata": {},
   "source": [
    "### H6: 2008 foi o ano com maior lucratividade"
   ]
  },
  {
   "cell_type": "code",
   "execution_count": 123,
   "id": "649034f2",
   "metadata": {
    "ExecuteTime": {
     "end_time": "2022-10-11T22:30:35.093222Z",
     "start_time": "2022-10-11T22:30:35.073226Z"
    }
   },
   "outputs": [
    {
     "data": {
      "text/plain": [
       "array([2008, 2009], dtype=int64)"
      ]
     },
     "execution_count": 123,
     "metadata": {},
     "output_type": "execute_result"
    }
   ],
   "source": [
    "df1['ano_venda'].unique()"
   ]
  },
  {
   "cell_type": "code",
   "execution_count": 124,
   "id": "5c8431dd",
   "metadata": {
    "ExecuteTime": {
     "end_time": "2022-10-11T22:30:41.245197Z",
     "start_time": "2022-10-11T22:30:41.225201Z"
    }
   },
   "outputs": [
    {
     "data": {
      "text/plain": [
       "ano_venda\n",
       "2008           3,057,443.12\n",
       "2009           2,681,269.46\n",
       "Name: lucro, dtype: float64"
      ]
     },
     "execution_count": 124,
     "metadata": {},
     "output_type": "execute_result"
    }
   ],
   "source": [
    "# Lucro por Lojas\n",
    "df1.groupby('ano_venda')['lucro'].sum()"
   ]
  },
  {
   "cell_type": "code",
   "execution_count": 60,
   "id": "16e83587",
   "metadata": {
    "ExecuteTime": {
     "end_time": "2022-10-11T18:40:36.196700Z",
     "start_time": "2022-10-11T18:40:35.905685Z"
    }
   },
   "outputs": [
    {
     "data": {
      "image/png": "[encoded data removed]",
      "text/plain": [
       "<Figure size 640x480 with 1 Axes>"
      ]
     },
     "metadata": {},
     "output_type": "display_data"
    }
   ],
   "source": [
    "df1.groupby('ano_venda')['lucro'].sum().plot.bar(title = 'Lucro X Ano');\n",
    "plt.xlabel('Ano')\n",
    "plt.ylabel('Lucro');"
   ]
  },
  {
   "cell_type": "code",
   "execution_count": 125,
   "id": "c38d957b",
   "metadata": {
    "ExecuteTime": {
     "end_time": "2022-10-11T22:31:00.741064Z",
     "start_time": "2022-10-11T22:31:00.727064Z"
    }
   },
   "outputs": [
    {
     "name": "stdout",
     "output_type": "stream",
     "text": [
      "H6: 2008 foi o ano com maior lucratividade\n",
      "RESPOSTA: VERDADEIRO.\n"
     ]
    }
   ],
   "source": [
    "# Resposta\n",
    "print('H6: 2008 foi o ano com maior lucratividade')\n",
    "print('RESPOSTA: VERDADEIRO.')"
   ]
  },
  {
   "cell_type": "markdown",
   "id": "40afdc81",
   "metadata": {},
   "source": [
    "## 8- Exportacao do dados em arquivos"
   ]
  },
  {
   "cell_type": "code",
   "execution_count": 126,
   "id": "eb1db398",
   "metadata": {
    "ExecuteTime": {
     "end_time": "2022-10-11T22:31:04.233071Z",
     "start_time": "2022-10-11T22:31:04.191072Z"
    }
   },
   "outputs": [
    {
     "data": {
      "text/html": [
       "<div>\n",
       "<style scoped>\n",
       "    .dataframe tbody tr th:only-of-type {\n",
       "        vertical-align: middle;\n",
       "    }\n",
       "\n",
       "    .dataframe tbody tr th {\n",
       "        vertical-align: top;\n",
       "    }\n",
       "\n",
       "    .dataframe thead th {\n",
       "        text-align: right;\n",
       "    }\n",
       "</style>\n",
       "<table border=\"1\" class=\"dataframe\">\n",
       "  <thead>\n",
       "    <tr style=\"text-align: right;\">\n",
       "      <th></th>\n",
       "      <th>data_venda</th>\n",
       "      <th>data_envio</th>\n",
       "      <th>id_loja</th>\n",
       "      <th>id_produto</th>\n",
       "      <th>id_cliente</th>\n",
       "      <th>numero_venda</th>\n",
       "      <th>custo_unitario</th>\n",
       "      <th>preço_unitario</th>\n",
       "      <th>quantidade</th>\n",
       "      <th>valor_desconto</th>\n",
       "      <th>...</th>\n",
       "      <th>produto</th>\n",
       "      <th>fabricante</th>\n",
       "      <th>marca</th>\n",
       "      <th>classe</th>\n",
       "      <th>cor</th>\n",
       "      <th>ano_venda</th>\n",
       "      <th>mes_venda</th>\n",
       "      <th>dia_venda</th>\n",
       "      <th>lucro</th>\n",
       "      <th>tempo_envio</th>\n",
       "    </tr>\n",
       "  </thead>\n",
       "  <tbody>\n",
       "    <tr>\n",
       "      <th>0</th>\n",
       "      <td>2008-05-09</td>\n",
       "      <td>2008-05-29</td>\n",
       "      <td>199</td>\n",
       "      <td>384</td>\n",
       "      <td>18839</td>\n",
       "      <td>200805093CS607</td>\n",
       "      <td>348.58</td>\n",
       "      <td>758.00</td>\n",
       "      <td>6</td>\n",
       "      <td>0.00</td>\n",
       "      <td>...</td>\n",
       "      <td>Adventure Works Laptop15.4W M1548 Red</td>\n",
       "      <td>Adventure Works</td>\n",
       "      <td>Adventure Works</td>\n",
       "      <td>Regular</td>\n",
       "      <td>Red</td>\n",
       "      <td>2008</td>\n",
       "      <td>5</td>\n",
       "      <td>9</td>\n",
       "      <td>4,199.42</td>\n",
       "      <td>20</td>\n",
       "    </tr>\n",
       "    <tr>\n",
       "      <th>1</th>\n",
       "      <td>2008-05-12</td>\n",
       "      <td>2008-05-17</td>\n",
       "      <td>306</td>\n",
       "      <td>384</td>\n",
       "      <td>19051</td>\n",
       "      <td>200805123CS567</td>\n",
       "      <td>348.58</td>\n",
       "      <td>758.00</td>\n",
       "      <td>6</td>\n",
       "      <td>0.00</td>\n",
       "      <td>...</td>\n",
       "      <td>Adventure Works Laptop15.4W M1548 Red</td>\n",
       "      <td>Adventure Works</td>\n",
       "      <td>Adventure Works</td>\n",
       "      <td>Regular</td>\n",
       "      <td>Red</td>\n",
       "      <td>2008</td>\n",
       "      <td>5</td>\n",
       "      <td>12</td>\n",
       "      <td>4,199.42</td>\n",
       "      <td>5</td>\n",
       "    </tr>\n",
       "    <tr>\n",
       "      <th>2</th>\n",
       "      <td>2008-05-14</td>\n",
       "      <td>2008-05-20</td>\n",
       "      <td>306</td>\n",
       "      <td>384</td>\n",
       "      <td>19052</td>\n",
       "      <td>200805143CS576</td>\n",
       "      <td>348.58</td>\n",
       "      <td>758.00</td>\n",
       "      <td>6</td>\n",
       "      <td>0.00</td>\n",
       "      <td>...</td>\n",
       "      <td>Adventure Works Laptop15.4W M1548 Red</td>\n",
       "      <td>Adventure Works</td>\n",
       "      <td>Adventure Works</td>\n",
       "      <td>Regular</td>\n",
       "      <td>Red</td>\n",
       "      <td>2008</td>\n",
       "      <td>5</td>\n",
       "      <td>14</td>\n",
       "      <td>4,199.42</td>\n",
       "      <td>6</td>\n",
       "    </tr>\n",
       "    <tr>\n",
       "      <th>3</th>\n",
       "      <td>2008-05-21</td>\n",
       "      <td>2008-05-27</td>\n",
       "      <td>306</td>\n",
       "      <td>384</td>\n",
       "      <td>19052</td>\n",
       "      <td>200805213CS576</td>\n",
       "      <td>348.58</td>\n",
       "      <td>758.00</td>\n",
       "      <td>6</td>\n",
       "      <td>0.00</td>\n",
       "      <td>...</td>\n",
       "      <td>Adventure Works Laptop15.4W M1548 Red</td>\n",
       "      <td>Adventure Works</td>\n",
       "      <td>Adventure Works</td>\n",
       "      <td>Regular</td>\n",
       "      <td>Red</td>\n",
       "      <td>2008</td>\n",
       "      <td>5</td>\n",
       "      <td>21</td>\n",
       "      <td>4,199.42</td>\n",
       "      <td>6</td>\n",
       "    </tr>\n",
       "    <tr>\n",
       "      <th>4</th>\n",
       "      <td>2008-06-20</td>\n",
       "      <td>2008-06-27</td>\n",
       "      <td>306</td>\n",
       "      <td>384</td>\n",
       "      <td>19053</td>\n",
       "      <td>200806203CS586</td>\n",
       "      <td>348.58</td>\n",
       "      <td>758.00</td>\n",
       "      <td>6</td>\n",
       "      <td>0.00</td>\n",
       "      <td>...</td>\n",
       "      <td>Adventure Works Laptop15.4W M1548 Red</td>\n",
       "      <td>Adventure Works</td>\n",
       "      <td>Adventure Works</td>\n",
       "      <td>Regular</td>\n",
       "      <td>Red</td>\n",
       "      <td>2008</td>\n",
       "      <td>6</td>\n",
       "      <td>20</td>\n",
       "      <td>4,199.42</td>\n",
       "      <td>7</td>\n",
       "    </tr>\n",
       "  </tbody>\n",
       "</table>\n",
       "<p>5 rows × 21 columns</p>\n",
       "</div>"
      ],
      "text/plain": [
       "  data_venda data_envio id_loja  id_produto  id_cliente    numero_venda  \\\n",
       "0 2008-05-09 2008-05-29     199         384       18839  200805093CS607   \n",
       "1 2008-05-12 2008-05-17     306         384       19051  200805123CS567   \n",
       "2 2008-05-14 2008-05-20     306         384       19052  200805143CS576   \n",
       "3 2008-05-21 2008-05-27     306         384       19052  200805213CS576   \n",
       "4 2008-06-20 2008-06-27     306         384       19053  200806203CS586   \n",
       "\n",
       "        custo_unitario       preço_unitario  quantidade       valor_desconto  \\\n",
       "0               348.58               758.00           6                 0.00   \n",
       "1               348.58               758.00           6                 0.00   \n",
       "2               348.58               758.00           6                 0.00   \n",
       "3               348.58               758.00           6                 0.00   \n",
       "4               348.58               758.00           6                 0.00   \n",
       "\n",
       "   ...                                produto       fabricante  \\\n",
       "0  ...  Adventure Works Laptop15.4W M1548 Red  Adventure Works   \n",
       "1  ...  Adventure Works Laptop15.4W M1548 Red  Adventure Works   \n",
       "2  ...  Adventure Works Laptop15.4W M1548 Red  Adventure Works   \n",
       "3  ...  Adventure Works Laptop15.4W M1548 Red  Adventure Works   \n",
       "4  ...  Adventure Works Laptop15.4W M1548 Red  Adventure Works   \n",
       "\n",
       "             marca   classe  cor ano_venda  mes_venda  dia_venda  \\\n",
       "0  Adventure Works  Regular  Red      2008          5          9   \n",
       "1  Adventure Works  Regular  Red      2008          5         12   \n",
       "2  Adventure Works  Regular  Red      2008          5         14   \n",
       "3  Adventure Works  Regular  Red      2008          5         21   \n",
       "4  Adventure Works  Regular  Red      2008          6         20   \n",
       "\n",
       "                 lucro  tempo_envio  \n",
       "0             4,199.42           20  \n",
       "1             4,199.42            5  \n",
       "2             4,199.42            6  \n",
       "3             4,199.42            6  \n",
       "4             4,199.42            7  \n",
       "\n",
       "[5 rows x 21 columns]"
      ]
     },
     "execution_count": 126,
     "metadata": {},
     "output_type": "execute_result"
    }
   ],
   "source": [
    "df1.head()"
   ]
  },
  {
   "cell_type": "code",
   "execution_count": 127,
   "id": "5548d54a",
   "metadata": {
    "ExecuteTime": {
     "end_time": "2022-10-11T22:31:09.784471Z",
     "start_time": "2022-10-11T22:31:08.526016Z"
    }
   },
   "outputs": [],
   "source": [
    "# Salvando no formato csv\n",
    "df1.to_csv('df_vendas_novo.csv', index=False)\n",
    "\n",
    "#Salva no formato excell\n",
    "df1.to_excel('df_vendas_novo.xlsx', index=False)"
   ]
  },
  {
   "cell_type": "code",
   "execution_count": null,
   "id": "26d4413b",
   "metadata": {},
   "outputs": [],
   "source": []
  }
 ],
 "metadata": {
  "hide_input": false,
  "kernelspec": {
   "display_name": "Python 3 (ipykernel)",
   "language": "python",
   "name": "python3"
  },
  "language_info": {
   "codemirror_mode": {
    "name": "ipython",
    "version": 3
   },
   "file_extension": ".py",
   "mimetype": "text/x-python",
   "name": "python",
   "nbconvert_exporter": "python",
   "pygments_lexer": "ipython3",
   "version": "3.8.13"
  }
 },
 "nbformat": 4,
 "nbformat_minor": 5
}
